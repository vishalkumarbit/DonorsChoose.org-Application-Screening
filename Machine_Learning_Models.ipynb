{
 "cells": [
  {
   "cell_type": "code",
   "execution_count": 3,
   "id": "b5f3e5c4",
   "metadata": {
    "id": "b5f3e5c4"
   },
   "outputs": [],
   "source": [
    "# Importing important modules\n",
    "%matplotlib inline\n",
    "import warnings\n",
    "warnings.filterwarnings(\"ignore\")\n",
    "\n",
    "import pandas as pd\n",
    "import numpy as np\n",
    "import nltk\n",
    "import matplotlib.pyplot as plt\n",
    "import seaborn as sns\n",
    "from sklearn.feature_extraction.text import CountVectorizer\n",
    "from sklearn.feature_extraction.text import TfidfVectorizer\n",
    "from sklearn.metrics import confusion_matrix\n",
    "from sklearn import metrics\n",
    "from sklearn.metrics import roc_curve, auc\n",
    "from sklearn.model_selection import GridSearchCV\n",
    "from scipy.stats import randint as sp_randint\n",
    "from sklearn.model_selection import RandomizedSearchCV\n",
    "from sklearn.naive_bayes import MultinomialNB\n",
    "from sklearn.tree import DecisionTreeClassifier\n",
    "\n",
    "\n",
    "import re\n",
    "import math\n",
    "\n",
    "import pickle\n",
    "from tqdm import tqdm\n",
    "import os\n",
    "from collections import Counter"
   ]
  },
  {
   "cell_type": "code",
   "execution_count": 4,
   "id": "UJOs40yd8pws",
   "metadata": {
    "colab": {
     "base_uri": "https://localhost:8080/"
    },
    "id": "UJOs40yd8pws",
    "outputId": "e413106e-904e-4bbd-dc3e-278df39bf5d2"
   },
   "outputs": [
    {
     "name": "stdout",
     "output_type": "stream",
     "text": [
      "Mounted at /content/Drive\n"
     ]
    }
   ],
   "source": [
    "from google.colab import drive\n",
    "\n",
    "drive.mount(\"/content/Drive\")"
   ]
  },
  {
   "cell_type": "markdown",
   "id": "f04d8843",
   "metadata": {
    "id": "f04d8843"
   },
   "source": [
    "# Data Loading"
   ]
  },
  {
   "cell_type": "code",
   "execution_count": 5,
   "id": "d1188502",
   "metadata": {
    "id": "d1188502"
   },
   "outputs": [],
   "source": [
    "data = pd.read_csv('/content/Drive/MyDrive/cleaned_data.csv')"
   ]
  },
  {
   "cell_type": "code",
   "execution_count": 6,
   "id": "dca11df6",
   "metadata": {
    "colab": {
     "base_uri": "https://localhost:8080/"
    },
    "id": "dca11df6",
    "outputId": "8978f6a1-b88c-49bc-93b5-66b6e0c1e345"
   },
   "outputs": [
    {
     "data": {
      "text/plain": [
       "(109248, 10)"
      ]
     },
     "execution_count": 6,
     "metadata": {},
     "output_type": "execute_result"
    }
   ],
   "source": [
    "data.shape"
   ]
  },
  {
   "cell_type": "code",
   "execution_count": 7,
   "id": "b614f1db",
   "metadata": {
    "colab": {
     "base_uri": "https://localhost:8080/",
     "height": 721
    },
    "id": "b614f1db",
    "outputId": "37d199a4-be8c-45c6-be48-cef57505be86"
   },
   "outputs": [
    {
     "data": {
      "text/html": [
       "\n",
       "  <div id=\"df-631bade4-aeb2-4475-a1f5-3a135ec00e99\">\n",
       "    <div class=\"colab-df-container\">\n",
       "      <div>\n",
       "<style scoped>\n",
       "    .dataframe tbody tr th:only-of-type {\n",
       "        vertical-align: middle;\n",
       "    }\n",
       "\n",
       "    .dataframe tbody tr th {\n",
       "        vertical-align: top;\n",
       "    }\n",
       "\n",
       "    .dataframe thead th {\n",
       "        text-align: right;\n",
       "    }\n",
       "</style>\n",
       "<table border=\"1\" class=\"dataframe\">\n",
       "  <thead>\n",
       "    <tr style=\"text-align: right;\">\n",
       "      <th></th>\n",
       "      <th>teacher_prefix</th>\n",
       "      <th>school_state</th>\n",
       "      <th>project_grade_category</th>\n",
       "      <th>project_subject_categories</th>\n",
       "      <th>project_subject_subcategories</th>\n",
       "      <th>teacher_number_of_previously_posted_projects</th>\n",
       "      <th>project_is_approved</th>\n",
       "      <th>essay</th>\n",
       "      <th>price</th>\n",
       "      <th>quantity</th>\n",
       "    </tr>\n",
       "  </thead>\n",
       "  <tbody>\n",
       "    <tr>\n",
       "      <th>0</th>\n",
       "      <td>mrs</td>\n",
       "      <td>in</td>\n",
       "      <td>grades_prek_2</td>\n",
       "      <td>literacy_language</td>\n",
       "      <td>esl_literacy</td>\n",
       "      <td>0</td>\n",
       "      <td>0</td>\n",
       "      <td>students english learners working english seco...</td>\n",
       "      <td>154.60</td>\n",
       "      <td>23</td>\n",
       "    </tr>\n",
       "    <tr>\n",
       "      <th>1</th>\n",
       "      <td>mr</td>\n",
       "      <td>fl</td>\n",
       "      <td>grades_6_8</td>\n",
       "      <td>history_civics_health_sports</td>\n",
       "      <td>civics_government_teamsports</td>\n",
       "      <td>7</td>\n",
       "      <td>1</td>\n",
       "      <td>students arrive school eager learn polite gene...</td>\n",
       "      <td>299.00</td>\n",
       "      <td>1</td>\n",
       "    </tr>\n",
       "    <tr>\n",
       "      <th>2</th>\n",
       "      <td>ms</td>\n",
       "      <td>az</td>\n",
       "      <td>grades_6_8</td>\n",
       "      <td>health_sports</td>\n",
       "      <td>health_wellness_teamsports</td>\n",
       "      <td>1</td>\n",
       "      <td>0</td>\n",
       "      <td>true champions not always ones win guts mia ha...</td>\n",
       "      <td>516.85</td>\n",
       "      <td>22</td>\n",
       "    </tr>\n",
       "    <tr>\n",
       "      <th>3</th>\n",
       "      <td>mrs</td>\n",
       "      <td>ky</td>\n",
       "      <td>grades_prek_2</td>\n",
       "      <td>literacy_language_math_science</td>\n",
       "      <td>literacy_mathematics</td>\n",
       "      <td>4</td>\n",
       "      <td>1</td>\n",
       "      <td>work unique school filled esl english second l...</td>\n",
       "      <td>232.90</td>\n",
       "      <td>4</td>\n",
       "    </tr>\n",
       "    <tr>\n",
       "      <th>4</th>\n",
       "      <td>mrs</td>\n",
       "      <td>tx</td>\n",
       "      <td>grades_prek_2</td>\n",
       "      <td>math_science</td>\n",
       "      <td>mathematics</td>\n",
       "      <td>1</td>\n",
       "      <td>1</td>\n",
       "      <td>second grade classroom next year made around 2...</td>\n",
       "      <td>67.98</td>\n",
       "      <td>4</td>\n",
       "    </tr>\n",
       "  </tbody>\n",
       "</table>\n",
       "</div>\n",
       "      <button class=\"colab-df-convert\" onclick=\"convertToInteractive('df-631bade4-aeb2-4475-a1f5-3a135ec00e99')\"\n",
       "              title=\"Convert this dataframe to an interactive table.\"\n",
       "              style=\"display:none;\">\n",
       "        \n",
       "  <svg xmlns=\"http://www.w3.org/2000/svg\" height=\"24px\"viewBox=\"0 0 24 24\"\n",
       "       width=\"24px\">\n",
       "    <path d=\"M0 0h24v24H0V0z\" fill=\"none\"/>\n",
       "    <path d=\"M18.56 5.44l.94 2.06.94-2.06 2.06-.94-2.06-.94-.94-2.06-.94 2.06-2.06.94zm-11 1L8.5 8.5l.94-2.06 2.06-.94-2.06-.94L8.5 2.5l-.94 2.06-2.06.94zm10 10l.94 2.06.94-2.06 2.06-.94-2.06-.94-.94-2.06-.94 2.06-2.06.94z\"/><path d=\"M17.41 7.96l-1.37-1.37c-.4-.4-.92-.59-1.43-.59-.52 0-1.04.2-1.43.59L10.3 9.45l-7.72 7.72c-.78.78-.78 2.05 0 2.83L4 21.41c.39.39.9.59 1.41.59.51 0 1.02-.2 1.41-.59l7.78-7.78 2.81-2.81c.8-.78.8-2.07 0-2.86zM5.41 20L4 18.59l7.72-7.72 1.47 1.35L5.41 20z\"/>\n",
       "  </svg>\n",
       "      </button>\n",
       "      \n",
       "  <style>\n",
       "    .colab-df-container {\n",
       "      display:flex;\n",
       "      flex-wrap:wrap;\n",
       "      gap: 12px;\n",
       "    }\n",
       "\n",
       "    .colab-df-convert {\n",
       "      background-color: #E8F0FE;\n",
       "      border: none;\n",
       "      border-radius: 50%;\n",
       "      cursor: pointer;\n",
       "      display: none;\n",
       "      fill: #1967D2;\n",
       "      height: 32px;\n",
       "      padding: 0 0 0 0;\n",
       "      width: 32px;\n",
       "    }\n",
       "\n",
       "    .colab-df-convert:hover {\n",
       "      background-color: #E2EBFA;\n",
       "      box-shadow: 0px 1px 2px rgba(60, 64, 67, 0.3), 0px 1px 3px 1px rgba(60, 64, 67, 0.15);\n",
       "      fill: #174EA6;\n",
       "    }\n",
       "\n",
       "    [theme=dark] .colab-df-convert {\n",
       "      background-color: #3B4455;\n",
       "      fill: #D2E3FC;\n",
       "    }\n",
       "\n",
       "    [theme=dark] .colab-df-convert:hover {\n",
       "      background-color: #434B5C;\n",
       "      box-shadow: 0px 1px 3px 1px rgba(0, 0, 0, 0.15);\n",
       "      filter: drop-shadow(0px 1px 2px rgba(0, 0, 0, 0.3));\n",
       "      fill: #FFFFFF;\n",
       "    }\n",
       "  </style>\n",
       "\n",
       "      <script>\n",
       "        const buttonEl =\n",
       "          document.querySelector('#df-631bade4-aeb2-4475-a1f5-3a135ec00e99 button.colab-df-convert');\n",
       "        buttonEl.style.display =\n",
       "          google.colab.kernel.accessAllowed ? 'block' : 'none';\n",
       "\n",
       "        async function convertToInteractive(key) {\n",
       "          const element = document.querySelector('#df-631bade4-aeb2-4475-a1f5-3a135ec00e99');\n",
       "          const dataTable =\n",
       "            await google.colab.kernel.invokeFunction('convertToInteractive',\n",
       "                                                     [key], {});\n",
       "          if (!dataTable) return;\n",
       "\n",
       "          const docLinkHtml = 'Like what you see? Visit the ' +\n",
       "            '<a target=\"_blank\" href=https://colab.research.google.com/notebooks/data_table.ipynb>data table notebook</a>'\n",
       "            + ' to learn more about interactive tables.';\n",
       "          element.innerHTML = '';\n",
       "          dataTable['output_type'] = 'display_data';\n",
       "          await google.colab.output.renderOutput(dataTable, element);\n",
       "          const docLink = document.createElement('div');\n",
       "          docLink.innerHTML = docLinkHtml;\n",
       "          element.appendChild(docLink);\n",
       "        }\n",
       "      </script>\n",
       "    </div>\n",
       "  </div>\n",
       "  "
      ],
      "text/plain": [
       "  teacher_prefix school_state project_grade_category  \\\n",
       "0            mrs           in          grades_prek_2   \n",
       "1             mr           fl             grades_6_8   \n",
       "2             ms           az             grades_6_8   \n",
       "3            mrs           ky          grades_prek_2   \n",
       "4            mrs           tx          grades_prek_2   \n",
       "\n",
       "       project_subject_categories project_subject_subcategories  \\\n",
       "0               literacy_language                  esl_literacy   \n",
       "1    history_civics_health_sports  civics_government_teamsports   \n",
       "2                   health_sports    health_wellness_teamsports   \n",
       "3  literacy_language_math_science          literacy_mathematics   \n",
       "4                    math_science                   mathematics   \n",
       "\n",
       "   teacher_number_of_previously_posted_projects  project_is_approved  \\\n",
       "0                                             0                    0   \n",
       "1                                             7                    1   \n",
       "2                                             1                    0   \n",
       "3                                             4                    1   \n",
       "4                                             1                    1   \n",
       "\n",
       "                                               essay   price  quantity  \n",
       "0  students english learners working english seco...  154.60        23  \n",
       "1  students arrive school eager learn polite gene...  299.00         1  \n",
       "2  true champions not always ones win guts mia ha...  516.85        22  \n",
       "3  work unique school filled esl english second l...  232.90         4  \n",
       "4  second grade classroom next year made around 2...   67.98         4  "
      ]
     },
     "execution_count": 7,
     "metadata": {},
     "output_type": "execute_result"
    }
   ],
   "source": [
    "data.head()"
   ]
  },
  {
   "cell_type": "markdown",
   "id": "211e4250",
   "metadata": {
    "id": "211e4250"
   },
   "source": [
    "# Adding sentiment score"
   ]
  },
  {
   "cell_type": "code",
   "execution_count": 8,
   "id": "03b4ede4",
   "metadata": {
    "colab": {
     "base_uri": "https://localhost:8080/"
    },
    "id": "03b4ede4",
    "outputId": "63f1bffb-71f6-4528-f144-d71422eaef18"
   },
   "outputs": [
    {
     "name": "stderr",
     "output_type": "stream",
     "text": [
      "[nltk_data] Downloading package vader_lexicon to /root/nltk_data...\n"
     ]
    }
   ],
   "source": [
    "import nltk\n",
    "nltk.download('vader_lexicon')\n",
    "from nltk.sentiment.vader import SentimentIntensityAnalyzer"
   ]
  },
  {
   "cell_type": "code",
   "execution_count": 9,
   "id": "459ecb38",
   "metadata": {
    "id": "459ecb38"
   },
   "outputs": [],
   "source": [
    "neg = []\n",
    "neu = []\n",
    "pos = []\n",
    "comp = []\n",
    "\n",
    "sid = SentimentIntensityAnalyzer()\n",
    "\n",
    "for sentence in data['essay']:\n",
    "    ss = sid.polarity_scores(sentence)\n",
    "    neg.append(ss['neg'])\n",
    "    neu.append(ss['neu'])\n",
    "    pos.append(ss['pos'])\n",
    "    comp.append(ss['compound'])\n",
    "\n",
    "data['Neg'] = neg\n",
    "data['Neu'] = neu\n",
    "data['Pos'] = pos\n",
    "data['Compound'] = comp"
   ]
  },
  {
   "cell_type": "markdown",
   "id": "c81c927b",
   "metadata": {
    "id": "c81c927b"
   },
   "source": [
    "# Train Test Split"
   ]
  },
  {
   "cell_type": "code",
   "execution_count": 10,
   "id": "52218d52",
   "metadata": {
    "id": "52218d52"
   },
   "outputs": [],
   "source": [
    "y = data['project_is_approved']\n",
    "X = data.drop(['project_is_approved'], axis=1)"
   ]
  },
  {
   "cell_type": "code",
   "execution_count": 11,
   "id": "e927e3ba",
   "metadata": {
    "colab": {
     "base_uri": "https://localhost:8080/"
    },
    "id": "e927e3ba",
    "outputId": "2d9aaf17-7225-4bd3-bb01-0663cded567c"
   },
   "outputs": [
    {
     "data": {
      "text/plain": [
       "((109248, 13), (109248,))"
      ]
     },
     "execution_count": 11,
     "metadata": {},
     "output_type": "execute_result"
    }
   ],
   "source": [
    "X.shape, y.shape"
   ]
  },
  {
   "cell_type": "code",
   "execution_count": 12,
   "id": "eb41fd4b",
   "metadata": {
    "id": "eb41fd4b"
   },
   "outputs": [],
   "source": [
    "from sklearn.model_selection import train_test_split\n",
    "X_train, X_test, y_train, y_test = train_test_split(X, y, test_size=0.3, stratify=y, random_state=0)"
   ]
  },
  {
   "cell_type": "code",
   "execution_count": 13,
   "id": "b9a0ad00",
   "metadata": {
    "colab": {
     "base_uri": "https://localhost:8080/"
    },
    "id": "b9a0ad00",
    "outputId": "e7aca877-af15-4af8-db9f-6a81375286d7"
   },
   "outputs": [
    {
     "data": {
      "text/plain": [
       "((76473, 13), (32775, 13), (76473,), (32775,))"
      ]
     },
     "execution_count": 13,
     "metadata": {},
     "output_type": "execute_result"
    }
   ],
   "source": [
    "X_train.shape, X_test.shape, y_train.shape, y_test.shape"
   ]
  },
  {
   "cell_type": "markdown",
   "id": "17f24fb2",
   "metadata": {
    "id": "17f24fb2"
   },
   "source": [
    "# 1. Data preprocessing"
   ]
  },
  {
   "cell_type": "markdown",
   "id": "ec159caf",
   "metadata": {
    "id": "ec159caf"
   },
   "source": [
    "## 1.1 Encoding essay"
   ]
  },
  {
   "cell_type": "markdown",
   "id": "1a13eb26",
   "metadata": {
    "id": "1a13eb26"
   },
   "source": [
    "### 1.1.1 TFIDF"
   ]
  },
  {
   "cell_type": "code",
   "execution_count": 14,
   "id": "3d66578a",
   "metadata": {
    "colab": {
     "base_uri": "https://localhost:8080/"
    },
    "id": "3d66578a",
    "outputId": "51429c06-4515-4984-bdc2-ded98276c19e"
   },
   "outputs": [
    {
     "name": "stdout",
     "output_type": "stream",
     "text": [
      "Before Vectorization\n",
      "(76473, 13) (76473,)\n",
      "(32775, 13) (32775,)\n",
      "--------------------------------------------------\n",
      "After Vectorization\n",
      "(76473, 50000) (76473,)\n",
      "(32775, 50000) (32775,)\n"
     ]
    }
   ],
   "source": [
    "print('Before Vectorization')\n",
    "print(X_train.shape,y_train.shape)\n",
    "print(X_test.shape,y_test.shape)\n",
    "\n",
    "# defining tfidf vectorizor\n",
    "vectorizer = TfidfVectorizer(min_df=10,ngram_range=(1,4), max_features=50000)\n",
    "# training\n",
    "vectorizer.fit(X_train['essay'].values)\n",
    "\n",
    "# tranforming train data and test data\n",
    "x_train_essay_tfidf = vectorizer.transform(X_train['essay'].values)\n",
    "x_test_essay_tfidf = vectorizer.transform(X_test['essay'].values)\n",
    "\n",
    "print('-'*50)\n",
    "print('After Vectorization')\n",
    "print(x_train_essay_tfidf.shape, y_train.shape)\n",
    "print(x_test_essay_tfidf.shape, y_test.shape)"
   ]
  },
  {
   "cell_type": "markdown",
   "id": "f43c5077",
   "metadata": {
    "id": "f43c5077"
   },
   "source": [
    "### 1.1.2. BOW"
   ]
  },
  {
   "cell_type": "code",
   "execution_count": null,
   "id": "a1adcfd5",
   "metadata": {
    "id": "a1adcfd5",
    "outputId": "4e980311-73cd-48e1-b383-488e937f6f50"
   },
   "outputs": [
    {
     "name": "stdout",
     "output_type": "stream",
     "text": [
      "Before Vectorization\n",
      "(76473, 13) (76473,)\n",
      "(32775, 13) (32775,)\n",
      "--------------------------------------------------\n",
      "After Vectorization\n",
      "(76473, 50000) (76473,)\n",
      "(32775, 50000) (32775,)\n"
     ]
    }
   ],
   "source": [
    "print('Before Vectorization')\n",
    "print(X_train.shape,y_train.shape)\n",
    "print(X_test.shape,y_test.shape)\n",
    "\n",
    "vectorizer = CountVectorizer(min_df=10,ngram_range=(1,4), max_features=50000)\n",
    "vectorizer.fit(X_train['essay'].values)\n",
    "\n",
    "x_train_essay_bow = vectorizer.transform(X_train['essay'].values)\n",
    "x_test_essay_bow = vectorizer.transform(X_test['essay'].values)\n",
    "\n",
    "print('-'*50)\n",
    "print('After Vectorization')\n",
    "print(x_train_essay_bow.shape, y_train.shape)\n",
    "print(x_test_essay_bow.shape, y_test.shape)"
   ]
  },
  {
   "cell_type": "markdown",
   "id": "42285c17",
   "metadata": {
    "id": "42285c17"
   },
   "source": [
    "### 1.1.3 TFIDF_W2V"
   ]
  },
  {
   "cell_type": "code",
   "execution_count": 17,
   "id": "630cd751",
   "metadata": {
    "id": "630cd751"
   },
   "outputs": [],
   "source": [
    "with open('/content/Drive/MyDrive/glove_vectors', 'rb') as f:\n",
    "    model = pickle.load(f)\n",
    "    glove_words =  set(model.keys())"
   ]
  },
  {
   "cell_type": "code",
   "execution_count": 18,
   "id": "9bc72bb6",
   "metadata": {
    "id": "9bc72bb6"
   },
   "outputs": [],
   "source": [
    "tfidf_model = TfidfVectorizer()\n",
    "tfidf_model.fit(X_train['essay'].values)\n",
    "# we are converting a dictionary with word as a key, and the idf as a value\n",
    "dictionary = dict(zip(tfidf_model.get_feature_names(), list(tfidf_model.idf_)))\n",
    "tfidf_words = set(tfidf_model.get_feature_names())"
   ]
  },
  {
   "cell_type": "code",
   "execution_count": 19,
   "id": "41216896",
   "metadata": {
    "colab": {
     "base_uri": "https://localhost:8080/"
    },
    "id": "41216896",
    "outputId": "8fa0eb80-f54a-42d6-f4c5-d8a19083ec86"
   },
   "outputs": [
    {
     "name": "stderr",
     "output_type": "stream",
     "text": [
      "100%|██████████| 76473/76473 [02:08<00:00, 597.07it/s]"
     ]
    },
    {
     "name": "stdout",
     "output_type": "stream",
     "text": [
      "76473\n",
      "300\n"
     ]
    },
    {
     "name": "stderr",
     "output_type": "stream",
     "text": [
      "\n"
     ]
    }
   ],
   "source": [
    "train_tfidf_w2v_vectors = []\n",
    "for sentence in tqdm(X_train['essay'].values):\n",
    "    vector = np.zeros(300)\n",
    "    tfidf_weight = 0\n",
    "    for word in sentence.split():\n",
    "        if (word in glove_words) and (word in tfidf_words):\n",
    "            vec = model[word]\n",
    "            tf_idf = dictionary[word]*(sentence.count(word)/len(sentence.split()))\n",
    "            vector += vec*tf_idf\n",
    "            tfidf_weight += tf_idf\n",
    "    if tf_idf != 0:\n",
    "        vector/tfidf_weight\n",
    "    train_tfidf_w2v_vectors.append(vector)\n",
    "\n",
    "print(len(train_tfidf_w2v_vectors))\n",
    "print(len(train_tfidf_w2v_vectors[0]))"
   ]
  },
  {
   "cell_type": "code",
   "execution_count": 20,
   "id": "27e15e08",
   "metadata": {
    "colab": {
     "base_uri": "https://localhost:8080/"
    },
    "id": "27e15e08",
    "outputId": "9845b90b-83cc-45e5-96f1-eccf8239e723"
   },
   "outputs": [
    {
     "name": "stderr",
     "output_type": "stream",
     "text": [
      "100%|██████████| 32775/32775 [00:55<00:00, 594.23it/s]"
     ]
    },
    {
     "name": "stdout",
     "output_type": "stream",
     "text": [
      "32775\n",
      "300\n"
     ]
    },
    {
     "name": "stderr",
     "output_type": "stream",
     "text": [
      "\n"
     ]
    }
   ],
   "source": [
    "test_tfidf_w2v_vectors = []\n",
    "for sentence in tqdm(X_test['essay'].values):\n",
    "    vector = np.zeros(300)\n",
    "    tfidf_weight = 0\n",
    "    for word in sentence.split():\n",
    "        if (word in glove_words) and (word in tfidf_words):\n",
    "            vec = model[word]\n",
    "            tf_idf = dictionary[word]*(sentence.count(word)/len(sentence.split()))\n",
    "            vector += vec*tf_idf\n",
    "            tfidf_weight += tf_idf\n",
    "    if tf_idf != 0:\n",
    "        vector/tfidf_weight\n",
    "    test_tfidf_w2v_vectors.append(vector)\n",
    "\n",
    "print(len(test_tfidf_w2v_vectors))\n",
    "print(len(test_tfidf_w2v_vectors[0]))"
   ]
  },
  {
   "cell_type": "markdown",
   "id": "49893342",
   "metadata": {
    "id": "49893342"
   },
   "source": [
    "## 1.2 Encoding School_state"
   ]
  },
  {
   "cell_type": "code",
   "execution_count": 21,
   "id": "fbe43a09",
   "metadata": {
    "colab": {
     "base_uri": "https://localhost:8080/"
    },
    "id": "fbe43a09",
    "outputId": "38fe255b-5562-43a2-b8fb-242aa0cbb08d"
   },
   "outputs": [
    {
     "name": "stdout",
     "output_type": "stream",
     "text": [
      "(76473, 51) (76473,)\n",
      "(32775, 51) (32775,)\n"
     ]
    }
   ],
   "source": [
    "# defining bow vectorizor\n",
    "vectorizer = CountVectorizer()\n",
    "#training\n",
    "vectorizer.fit(X_train['school_state'].values)\n",
    "\n",
    "# tranforming train data and test data\n",
    "x_train_states_ohe = vectorizer.transform(X_train['school_state'].values)\n",
    "x_test_states_ohe = vectorizer.transform(X_test['school_state'].values)\n",
    "\n",
    "print(x_train_states_ohe.shape, y_train.shape)\n",
    "print(x_test_states_ohe.shape, y_test.shape)"
   ]
  },
  {
   "cell_type": "markdown",
   "id": "9bc7f686",
   "metadata": {
    "id": "9bc7f686"
   },
   "source": [
    "## 1.3 Encoding prefix"
   ]
  },
  {
   "cell_type": "code",
   "execution_count": 22,
   "id": "b68b6cf6",
   "metadata": {
    "colab": {
     "base_uri": "https://localhost:8080/"
    },
    "id": "b68b6cf6",
    "outputId": "ab1c37e6-3024-4848-9cc0-78758a602c8d"
   },
   "outputs": [
    {
     "name": "stdout",
     "output_type": "stream",
     "text": [
      "(76473, 5) (76473,)\n",
      "(32775, 5) (32775,)\n"
     ]
    }
   ],
   "source": [
    "# defining bow vectorizor\n",
    "vectorizer = CountVectorizer()\n",
    "#training\n",
    "vectorizer.fit(X_train['teacher_prefix'].values)\n",
    "\n",
    "# tranforming train data and test data\n",
    "x_train_teacher_prefix_ohe = vectorizer.transform(X_train['teacher_prefix'].values)\n",
    "x_test_teacher_prefix_ohe = vectorizer.transform(X_test['teacher_prefix'].values)\n",
    "\n",
    "print(x_train_teacher_prefix_ohe.shape, y_train.shape)\n",
    "print(x_test_teacher_prefix_ohe.shape, y_test.shape)"
   ]
  },
  {
   "cell_type": "markdown",
   "id": "1b3d7de0",
   "metadata": {
    "id": "1b3d7de0"
   },
   "source": [
    "## 1.4 Encoding project_grade_category"
   ]
  },
  {
   "cell_type": "code",
   "execution_count": 23,
   "id": "c2af7b4b",
   "metadata": {
    "colab": {
     "base_uri": "https://localhost:8080/"
    },
    "id": "c2af7b4b",
    "outputId": "c8e34bae-74d3-4c4c-d395-70c647c063f0"
   },
   "outputs": [
    {
     "name": "stdout",
     "output_type": "stream",
     "text": [
      "(76473, 4) (76473,)\n",
      "(32775, 4) (32775,)\n"
     ]
    }
   ],
   "source": [
    "# defining bow vectorizor\n",
    "vectorizer = CountVectorizer()\n",
    "#training\n",
    "vectorizer.fit(X_train['project_grade_category'].values)\n",
    "\n",
    "# tranforming train data and test data\n",
    "x_train_pgc_ohe = vectorizer.transform(X_train['project_grade_category'].values)\n",
    "x_test_pgc_ohe = vectorizer.transform(X_test['project_grade_category'].values)\n",
    "\n",
    "\n",
    "print(x_train_pgc_ohe.shape, y_train.shape)\n",
    "print(x_test_pgc_ohe.shape, y_test.shape)"
   ]
  },
  {
   "cell_type": "markdown",
   "id": "776b9f5e",
   "metadata": {
    "id": "776b9f5e"
   },
   "source": [
    "## 1.5 Encoding project_subject_categories"
   ]
  },
  {
   "cell_type": "code",
   "execution_count": 24,
   "id": "72b84f27",
   "metadata": {
    "colab": {
     "base_uri": "https://localhost:8080/"
    },
    "id": "72b84f27",
    "outputId": "2adb7835-d56a-4ab1-971f-c3b00a56e202"
   },
   "outputs": [
    {
     "name": "stdout",
     "output_type": "stream",
     "text": [
      "(76473, 51) (76473,)\n",
      "(32775, 51) (32775,)\n"
     ]
    }
   ],
   "source": [
    "# defining bow vectorizor\n",
    "vectorizer = CountVectorizer()\n",
    "#training\n",
    "vectorizer.fit(X_train['project_subject_categories'].values)\n",
    "\n",
    "# tranforming train data and test data\n",
    "x_train_category_ohe = vectorizer.transform(X_train['project_subject_categories'].values)\n",
    "x_test_category_ohe = vectorizer.transform(X_test['project_subject_categories'].values)\n",
    "\n",
    "print(x_train_category_ohe.shape, y_train.shape)\n",
    "print(x_test_category_ohe.shape, y_test.shape)"
   ]
  },
  {
   "cell_type": "markdown",
   "id": "018b43b2",
   "metadata": {
    "id": "018b43b2"
   },
   "source": [
    "## 1.6 Encoding project_subject_subcategories"
   ]
  },
  {
   "cell_type": "code",
   "execution_count": 25,
   "id": "e9fc64cb",
   "metadata": {
    "colab": {
     "base_uri": "https://localhost:8080/"
    },
    "id": "e9fc64cb",
    "outputId": "4eec9fa6-74fa-47ad-cc17-0020003e5b8f"
   },
   "outputs": [
    {
     "name": "stdout",
     "output_type": "stream",
     "text": [
      "(76473, 393) (76473,)\n",
      "(32775, 393) (32775,)\n"
     ]
    }
   ],
   "source": [
    "# defining bow vectorizor\n",
    "vectorizer = CountVectorizer()\n",
    "#training\n",
    "vectorizer.fit(X_train['project_subject_subcategories'].values)\n",
    "\n",
    "# tranforming train data and test data\n",
    "x_train_subcategory_ohe = vectorizer.transform(X_train['project_subject_subcategories'].values)\n",
    "x_test_subcategory_ohe = vectorizer.transform(X_test['project_subject_subcategories'].values)\n",
    "\n",
    "\n",
    "print(x_train_subcategory_ohe.shape, y_train.shape)\n",
    "print(x_test_subcategory_ohe.shape, y_test.shape)"
   ]
  },
  {
   "cell_type": "markdown",
   "id": "7631456f",
   "metadata": {
    "id": "7631456f"
   },
   "source": [
    "## 1.7 MinMaxScaler Price"
   ]
  },
  {
   "cell_type": "code",
   "execution_count": 26,
   "id": "8852b2b3",
   "metadata": {
    "id": "8852b2b3"
   },
   "outputs": [],
   "source": [
    "from sklearn.preprocessing import MinMaxScaler\n",
    "# defining column normalizer\n",
    "scaler = MinMaxScaler()\n",
    "#training\n",
    "scaler.fit(X_train['price'].values.reshape(-1,1))\n",
    "\n",
    "#tranforming train data and test data\n",
    "x_train_price = scaler.transform(X_train['price'].values.reshape(-1,1))\n",
    "x_test_price = scaler.transform(X_test['price'].values.reshape(-1,1))"
   ]
  },
  {
   "cell_type": "markdown",
   "id": "71957331",
   "metadata": {
    "id": "71957331"
   },
   "source": [
    "## 1.8 MinMaxScaler teacher_number_of_previously_posted_projects"
   ]
  },
  {
   "cell_type": "code",
   "execution_count": 27,
   "id": "d84ea04b",
   "metadata": {
    "id": "d84ea04b"
   },
   "outputs": [],
   "source": [
    "# defining column normalizer\n",
    "scaler = MinMaxScaler()\n",
    "#training\n",
    "scaler.fit(X_train['teacher_number_of_previously_posted_projects'].values.reshape(-1,1))\n",
    "\n",
    "#tranforming train data and test data\n",
    "x_train_previous_posts = scaler.transform(X_train['teacher_number_of_previously_posted_projects'].values.reshape(-1,1))\n",
    "x_test_previous_posts = scaler.transform(X_test['teacher_number_of_previously_posted_projects'].values.reshape(-1,1))"
   ]
  },
  {
   "cell_type": "markdown",
   "id": "b76ebb3e",
   "metadata": {
    "id": "b76ebb3e"
   },
   "source": [
    "## 1.9 MinMaxScaler Quantity"
   ]
  },
  {
   "cell_type": "code",
   "execution_count": 28,
   "id": "7875a029",
   "metadata": {
    "id": "7875a029"
   },
   "outputs": [],
   "source": [
    "# defining column normalizer\n",
    "scaler = MinMaxScaler()\n",
    "#training\n",
    "scaler.fit(X_train['quantity'].values.reshape(-1,1))\n",
    "\n",
    "#tranforming train data and test data\n",
    "x_train_quantity = scaler.transform(X_train['quantity'].values.reshape(-1,1))\n",
    "x_test_quantity = scaler.transform(X_test['quantity'].values.reshape(-1,1))"
   ]
  },
  {
   "cell_type": "markdown",
   "id": "d2f76cd2",
   "metadata": {
    "id": "d2f76cd2"
   },
   "source": [
    "## 1.10 MinMaxScaler Neg"
   ]
  },
  {
   "cell_type": "code",
   "execution_count": 29,
   "id": "c84b56bd",
   "metadata": {
    "id": "c84b56bd"
   },
   "outputs": [],
   "source": [
    "# defining column normalizer\n",
    "scaler = MinMaxScaler()\n",
    "#training\n",
    "scaler.fit(X_train['Neg'].values.reshape(-1,1))\n",
    "\n",
    "#tranforming train data and test data\n",
    "x_train_neg = scaler.transform(X_train['Neg'].values.reshape(-1,1))\n",
    "x_test_neg = scaler.transform(X_test['Neg'].values.reshape(-1,1))"
   ]
  },
  {
   "cell_type": "markdown",
   "id": "aa460845",
   "metadata": {
    "id": "aa460845"
   },
   "source": [
    "## 1.11 MinMaxScaler Neu"
   ]
  },
  {
   "cell_type": "code",
   "execution_count": 30,
   "id": "e28ced33",
   "metadata": {
    "id": "e28ced33"
   },
   "outputs": [],
   "source": [
    "# defining column normalizer\n",
    "scaler = MinMaxScaler()\n",
    "#training\n",
    "scaler.fit(X_train['Neu'].values.reshape(-1,1))\n",
    "\n",
    "#tranforming train data and test data\n",
    "x_train_neu = scaler.transform(X_train['Neu'].values.reshape(-1,1))\n",
    "x_test_neu = scaler.transform(X_test['Neu'].values.reshape(-1,1))"
   ]
  },
  {
   "cell_type": "markdown",
   "id": "d90172c7",
   "metadata": {
    "id": "d90172c7"
   },
   "source": [
    "## 1.12 MinMaxScaler Pos"
   ]
  },
  {
   "cell_type": "code",
   "execution_count": 31,
   "id": "a68f0439",
   "metadata": {
    "id": "a68f0439"
   },
   "outputs": [],
   "source": [
    "# defining column normalizer\n",
    "scaler = MinMaxScaler()\n",
    "#training\n",
    "scaler.fit(X_train['Pos'].values.reshape(-1,1))\n",
    "\n",
    "#tranforming train data and test data\n",
    "x_train_pos = scaler.transform(X_train['Pos'].values.reshape(-1,1))\n",
    "x_test_pos = scaler.transform(X_test['Pos'].values.reshape(-1,1))"
   ]
  },
  {
   "cell_type": "markdown",
   "id": "061e50c0",
   "metadata": {
    "id": "061e50c0"
   },
   "source": [
    "## 1.13 MinMaxScaler Comp"
   ]
  },
  {
   "cell_type": "code",
   "execution_count": 32,
   "id": "4386cfff",
   "metadata": {
    "id": "4386cfff"
   },
   "outputs": [],
   "source": [
    "# defining column normalizer\n",
    "scaler = MinMaxScaler()\n",
    "#training\n",
    "scaler.fit(X_train['Compound'].values.reshape(-1,1))\n",
    "\n",
    "#tranforming train data and test data\n",
    "x_train_comp = scaler.transform(X_train['Compound'].values.reshape(-1,1))\n",
    "x_test_comp = scaler.transform(X_test['Compound'].values.reshape(-1,1))"
   ]
  },
  {
   "cell_type": "markdown",
   "id": "d33d907e",
   "metadata": {
    "id": "d33d907e"
   },
   "source": [
    "# 2 Merging all processed features"
   ]
  },
  {
   "cell_type": "markdown",
   "id": "1c688820",
   "metadata": {
    "id": "1c688820"
   },
   "source": [
    "## 2.1. Merging all encoded features considering tfidf representation of text features."
   ]
  },
  {
   "cell_type": "code",
   "execution_count": 33,
   "id": "825bb4d3",
   "metadata": {
    "colab": {
     "base_uri": "https://localhost:8080/"
    },
    "id": "825bb4d3",
    "outputId": "d51b3b58-25ae-4bb0-d576-468f47368a7b"
   },
   "outputs": [
    {
     "name": "stdout",
     "output_type": "stream",
     "text": [
      "Final Data matrix\n",
      "(76473, 50511) (76473,)\n",
      "(32775, 50511) (32775,)\n"
     ]
    }
   ],
   "source": [
    "# merge two sparse matrices: https://stackoverflow.com/a/19710648/4084039\n",
    "from scipy.sparse import hstack\n",
    "X_train_tfidf = hstack((x_train_essay_tfidf, x_train_states_ohe, x_train_teacher_prefix_ohe, x_train_pgc_ohe, x_train_category_ohe, x_train_subcategory_ohe, x_train_price, x_train_previous_posts, x_train_quantity, x_train_neg, x_train_neu, x_train_pos, x_train_comp)).tocsr()\n",
    "X_test_tfidf = hstack((x_test_essay_tfidf, x_test_states_ohe, x_test_teacher_prefix_ohe, x_test_pgc_ohe, x_test_category_ohe, x_test_subcategory_ohe, x_test_price, x_test_previous_posts, x_test_quantity, x_test_neg, x_test_neu, x_test_pos, x_test_comp)).tocsr()\n",
    "\n",
    "print(\"Final Data matrix\")\n",
    "print(X_train_tfidf.shape, y_train.shape)\n",
    "print(X_test_tfidf.shape, y_test.shape)"
   ]
  },
  {
   "cell_type": "markdown",
   "id": "82ecb0ba",
   "metadata": {
    "id": "82ecb0ba"
   },
   "source": [
    "## 2.2 Merging all encoded features considering BOW representation of text features."
   ]
  },
  {
   "cell_type": "code",
   "execution_count": null,
   "id": "c32ec631",
   "metadata": {
    "id": "c32ec631",
    "outputId": "ba7d0c46-099a-4d8b-e1d2-6f2296aa4c61"
   },
   "outputs": [
    {
     "name": "stdout",
     "output_type": "stream",
     "text": [
      "Final Data matrix\n",
      "(76473, 50508) (76473,)\n",
      "(32775, 50508) (32775,)\n"
     ]
    }
   ],
   "source": [
    "# merge two sparse matrices: https://stackoverflow.com/a/19710648/4084039\n",
    "from scipy.sparse import hstack\n",
    "X_train_bow = hstack((x_train_essay_bow, x_train_states_ohe, x_train_teacher_prefix_ohe, x_train_pgc_ohe, x_train_category_ohe, x_train_subcategory_ohe, x_train_price, x_train_previous_posts, x_train_quantity, x_train_neg, x_train_neu, x_train_pos, x_train_comp)).tocsr()\n",
    "X_test_bow = hstack((x_test_essay_bow, x_test_states_ohe, x_test_teacher_prefix_ohe, x_test_pgc_ohe, x_test_category_ohe, x_test_subcategory_ohe, x_test_price, x_test_previous_posts, x_test_quantity, x_test_neg, x_test_neu, x_test_pos, x_test_comp)).tocsr()\n",
    "\n",
    "print(\"Final Data matrix\")\n",
    "print(X_train_bow.shape, y_train.shape)\n",
    "print(X_test_bow.shape, y_test.shape)"
   ]
  },
  {
   "cell_type": "markdown",
   "id": "49705124",
   "metadata": {
    "id": "49705124"
   },
   "source": [
    "## 2.3 Merging all encoded features considering BOW representation of text features."
   ]
  },
  {
   "cell_type": "code",
   "execution_count": 34,
   "id": "bc93759f",
   "metadata": {
    "colab": {
     "base_uri": "https://localhost:8080/"
    },
    "id": "bc93759f",
    "outputId": "0fb28f74-2711-4e5d-d5c0-250767f2a365"
   },
   "outputs": [
    {
     "name": "stdout",
     "output_type": "stream",
     "text": [
      "Final Data matrix\n",
      "(76473, 811) (76473,)\n",
      "(32775, 811) (32775,)\n"
     ]
    }
   ],
   "source": [
    "# merge two sparse matrices: https://stackoverflow.com/a/19710648/4084039\n",
    "from scipy.sparse import hstack\n",
    "X_train_w2v = hstack((train_tfidf_w2v_vectors, x_train_states_ohe, x_train_teacher_prefix_ohe, x_train_pgc_ohe, x_train_category_ohe, x_train_subcategory_ohe, x_train_price, x_train_previous_posts, x_train_quantity, x_train_neg, x_train_neu, x_train_pos, x_train_comp)).tocsr()\n",
    "X_test_w2v = hstack((test_tfidf_w2v_vectors, x_test_states_ohe, x_test_teacher_prefix_ohe, x_test_pgc_ohe, x_test_category_ohe, x_test_subcategory_ohe, x_test_price, x_test_previous_posts, x_test_quantity, x_test_neg, x_test_neu, x_test_pos, x_test_comp)).tocsr()\n",
    "\n",
    "print(\"Final Data matrix\")\n",
    "print(X_train_w2v.shape, y_train.shape)\n",
    "print(X_test_w2v.shape, y_test.shape)"
   ]
  },
  {
   "cell_type": "markdown",
   "id": "947ebf35",
   "metadata": {
    "id": "947ebf35"
   },
   "source": [
    "# 3. Modeling"
   ]
  },
  {
   "cell_type": "markdown",
   "id": "6a6aa93e",
   "metadata": {
    "id": "6a6aa93e"
   },
   "source": [
    "## 3.1 Naive Bayes"
   ]
  },
  {
   "cell_type": "markdown",
   "id": "42a968ac",
   "metadata": {
    "id": "42a968ac"
   },
   "source": [
    "### 3.1.1 with tfidf representation"
   ]
  },
  {
   "cell_type": "code",
   "execution_count": null,
   "id": "6c92d30b",
   "metadata": {
    "id": "6c92d30b",
    "outputId": "9548c243-50e5-46e8-c443-a1cc568a0c9b"
   },
   "outputs": [
    {
     "data": {
      "text/plain": [
       "GridSearchCV(cv=3, estimator=MultinomialNB(),\n",
       "             param_grid={'alpha': [0.01, 0.1, 0.5, 1, 5, 10, 20, 30, 40, 50,\n",
       "                                   100, 500]},\n",
       "             return_train_score=True, scoring='roc_auc')"
      ]
     },
     "execution_count": 39,
     "metadata": {},
     "output_type": "execute_result"
    }
   ],
   "source": [
    "# hyperparameter tuning\n",
    "naive = MultinomialNB()\n",
    "parameters = {'alpha':[0.01,0.1,0.5,1,5,10,20,30,40,50,100,500]}\n",
    "clf = GridSearchCV(naive, parameters, cv=3, scoring='roc_auc', return_train_score=True)\n",
    "clf.fit(X_train_tfidf, y_train)"
   ]
  },
  {
   "cell_type": "code",
   "execution_count": null,
   "id": "ebbd41b7",
   "metadata": {
    "id": "ebbd41b7",
    "outputId": "cbfb1139-ac87-4309-f31b-91ab68bbdf14"
   },
   "outputs": [
    {
     "data": {
      "text/html": [
       "<div>\n",
       "<style scoped>\n",
       "    .dataframe tbody tr th:only-of-type {\n",
       "        vertical-align: middle;\n",
       "    }\n",
       "\n",
       "    .dataframe tbody tr th {\n",
       "        vertical-align: top;\n",
       "    }\n",
       "\n",
       "    .dataframe thead th {\n",
       "        text-align: right;\n",
       "    }\n",
       "</style>\n",
       "<table border=\"1\" class=\"dataframe\">\n",
       "  <thead>\n",
       "    <tr style=\"text-align: right;\">\n",
       "      <th></th>\n",
       "      <th>mean_fit_time</th>\n",
       "      <th>std_fit_time</th>\n",
       "      <th>mean_score_time</th>\n",
       "      <th>std_score_time</th>\n",
       "      <th>param_alpha</th>\n",
       "      <th>params</th>\n",
       "      <th>split0_test_score</th>\n",
       "      <th>split1_test_score</th>\n",
       "      <th>split2_test_score</th>\n",
       "      <th>mean_test_score</th>\n",
       "      <th>std_test_score</th>\n",
       "      <th>rank_test_score</th>\n",
       "      <th>split0_train_score</th>\n",
       "      <th>split1_train_score</th>\n",
       "      <th>split2_train_score</th>\n",
       "      <th>mean_train_score</th>\n",
       "      <th>std_train_score</th>\n",
       "    </tr>\n",
       "  </thead>\n",
       "  <tbody>\n",
       "    <tr>\n",
       "      <th>0</th>\n",
       "      <td>0.158588</td>\n",
       "      <td>0.007951</td>\n",
       "      <td>0.051397</td>\n",
       "      <td>0.007983</td>\n",
       "      <td>0.01</td>\n",
       "      <td>{'alpha': 0.01}</td>\n",
       "      <td>0.677461</td>\n",
       "      <td>0.674121</td>\n",
       "      <td>0.660882</td>\n",
       "      <td>0.670821</td>\n",
       "      <td>0.007159</td>\n",
       "      <td>1</td>\n",
       "      <td>0.854345</td>\n",
       "      <td>0.847309</td>\n",
       "      <td>0.841063</td>\n",
       "      <td>0.847572</td>\n",
       "      <td>0.005425</td>\n",
       "    </tr>\n",
       "    <tr>\n",
       "      <th>1</th>\n",
       "      <td>0.162168</td>\n",
       "      <td>0.015055</td>\n",
       "      <td>0.048006</td>\n",
       "      <td>0.003824</td>\n",
       "      <td>0.1</td>\n",
       "      <td>{'alpha': 0.1}</td>\n",
       "      <td>0.676926</td>\n",
       "      <td>0.674493</td>\n",
       "      <td>0.660237</td>\n",
       "      <td>0.670552</td>\n",
       "      <td>0.007361</td>\n",
       "      <td>2</td>\n",
       "      <td>0.840791</td>\n",
       "      <td>0.832702</td>\n",
       "      <td>0.826503</td>\n",
       "      <td>0.833332</td>\n",
       "      <td>0.005850</td>\n",
       "    </tr>\n",
       "    <tr>\n",
       "      <th>2</th>\n",
       "      <td>0.154782</td>\n",
       "      <td>0.014851</td>\n",
       "      <td>0.051794</td>\n",
       "      <td>0.004119</td>\n",
       "      <td>0.5</td>\n",
       "      <td>{'alpha': 0.5}</td>\n",
       "      <td>0.666970</td>\n",
       "      <td>0.665985</td>\n",
       "      <td>0.650454</td>\n",
       "      <td>0.661136</td>\n",
       "      <td>0.007564</td>\n",
       "      <td>3</td>\n",
       "      <td>0.805078</td>\n",
       "      <td>0.796153</td>\n",
       "      <td>0.790908</td>\n",
       "      <td>0.797380</td>\n",
       "      <td>0.005850</td>\n",
       "    </tr>\n",
       "    <tr>\n",
       "      <th>3</th>\n",
       "      <td>0.148756</td>\n",
       "      <td>0.021102</td>\n",
       "      <td>0.069198</td>\n",
       "      <td>0.016256</td>\n",
       "      <td>1</td>\n",
       "      <td>{'alpha': 1}</td>\n",
       "      <td>0.655921</td>\n",
       "      <td>0.654768</td>\n",
       "      <td>0.640209</td>\n",
       "      <td>0.650299</td>\n",
       "      <td>0.007151</td>\n",
       "      <td>4</td>\n",
       "      <td>0.774398</td>\n",
       "      <td>0.766050</td>\n",
       "      <td>0.762170</td>\n",
       "      <td>0.767539</td>\n",
       "      <td>0.005102</td>\n",
       "    </tr>\n",
       "    <tr>\n",
       "      <th>4</th>\n",
       "      <td>0.149432</td>\n",
       "      <td>0.032227</td>\n",
       "      <td>0.049395</td>\n",
       "      <td>0.005290</td>\n",
       "      <td>5</td>\n",
       "      <td>{'alpha': 5}</td>\n",
       "      <td>0.624556</td>\n",
       "      <td>0.617222</td>\n",
       "      <td>0.609624</td>\n",
       "      <td>0.617134</td>\n",
       "      <td>0.006096</td>\n",
       "      <td>5</td>\n",
       "      <td>0.680422</td>\n",
       "      <td>0.677906</td>\n",
       "      <td>0.677652</td>\n",
       "      <td>0.678660</td>\n",
       "      <td>0.001250</td>\n",
       "    </tr>\n",
       "    <tr>\n",
       "      <th>5</th>\n",
       "      <td>0.160264</td>\n",
       "      <td>0.011824</td>\n",
       "      <td>0.057491</td>\n",
       "      <td>0.015851</td>\n",
       "      <td>10</td>\n",
       "      <td>{'alpha': 10}</td>\n",
       "      <td>0.612433</td>\n",
       "      <td>0.600712</td>\n",
       "      <td>0.597089</td>\n",
       "      <td>0.603411</td>\n",
       "      <td>0.006548</td>\n",
       "      <td>6</td>\n",
       "      <td>0.643186</td>\n",
       "      <td>0.644031</td>\n",
       "      <td>0.644358</td>\n",
       "      <td>0.643858</td>\n",
       "      <td>0.000494</td>\n",
       "    </tr>\n",
       "    <tr>\n",
       "      <th>6</th>\n",
       "      <td>0.154031</td>\n",
       "      <td>0.014000</td>\n",
       "      <td>0.046392</td>\n",
       "      <td>0.002579</td>\n",
       "      <td>20</td>\n",
       "      <td>{'alpha': 20}</td>\n",
       "      <td>0.599930</td>\n",
       "      <td>0.584874</td>\n",
       "      <td>0.584854</td>\n",
       "      <td>0.589886</td>\n",
       "      <td>0.007102</td>\n",
       "      <td>7</td>\n",
       "      <td>0.612514</td>\n",
       "      <td>0.616277</td>\n",
       "      <td>0.616445</td>\n",
       "      <td>0.615079</td>\n",
       "      <td>0.001815</td>\n",
       "    </tr>\n",
       "    <tr>\n",
       "      <th>7</th>\n",
       "      <td>0.155952</td>\n",
       "      <td>0.005522</td>\n",
       "      <td>0.052869</td>\n",
       "      <td>0.004945</td>\n",
       "      <td>30</td>\n",
       "      <td>{'alpha': 30}</td>\n",
       "      <td>0.592656</td>\n",
       "      <td>0.576042</td>\n",
       "      <td>0.577843</td>\n",
       "      <td>0.582180</td>\n",
       "      <td>0.007444</td>\n",
       "      <td>8</td>\n",
       "      <td>0.597708</td>\n",
       "      <td>0.602847</td>\n",
       "      <td>0.602678</td>\n",
       "      <td>0.601078</td>\n",
       "      <td>0.002384</td>\n",
       "    </tr>\n",
       "    <tr>\n",
       "      <th>8</th>\n",
       "      <td>0.151066</td>\n",
       "      <td>0.026223</td>\n",
       "      <td>0.044944</td>\n",
       "      <td>0.002907</td>\n",
       "      <td>40</td>\n",
       "      <td>{'alpha': 40}</td>\n",
       "      <td>0.587527</td>\n",
       "      <td>0.569982</td>\n",
       "      <td>0.572851</td>\n",
       "      <td>0.576787</td>\n",
       "      <td>0.007685</td>\n",
       "      <td>9</td>\n",
       "      <td>0.588306</td>\n",
       "      <td>0.594307</td>\n",
       "      <td>0.593843</td>\n",
       "      <td>0.592152</td>\n",
       "      <td>0.002726</td>\n",
       "    </tr>\n",
       "    <tr>\n",
       "      <th>9</th>\n",
       "      <td>0.149998</td>\n",
       "      <td>0.021107</td>\n",
       "      <td>0.047669</td>\n",
       "      <td>0.003008</td>\n",
       "      <td>50</td>\n",
       "      <td>{'alpha': 50}</td>\n",
       "      <td>0.583562</td>\n",
       "      <td>0.565392</td>\n",
       "      <td>0.568952</td>\n",
       "      <td>0.572635</td>\n",
       "      <td>0.007862</td>\n",
       "      <td>10</td>\n",
       "      <td>0.581540</td>\n",
       "      <td>0.588139</td>\n",
       "      <td>0.587425</td>\n",
       "      <td>0.585701</td>\n",
       "      <td>0.002957</td>\n",
       "    </tr>\n",
       "    <tr>\n",
       "      <th>10</th>\n",
       "      <td>0.146191</td>\n",
       "      <td>0.005383</td>\n",
       "      <td>0.049990</td>\n",
       "      <td>0.005293</td>\n",
       "      <td>100</td>\n",
       "      <td>{'alpha': 100}</td>\n",
       "      <td>0.571408</td>\n",
       "      <td>0.552066</td>\n",
       "      <td>0.557299</td>\n",
       "      <td>0.560258</td>\n",
       "      <td>0.008169</td>\n",
       "      <td>11</td>\n",
       "      <td>0.563178</td>\n",
       "      <td>0.571301</td>\n",
       "      <td>0.569802</td>\n",
       "      <td>0.568093</td>\n",
       "      <td>0.003529</td>\n",
       "    </tr>\n",
       "    <tr>\n",
       "      <th>11</th>\n",
       "      <td>0.134605</td>\n",
       "      <td>0.006513</td>\n",
       "      <td>0.055196</td>\n",
       "      <td>0.011667</td>\n",
       "      <td>500</td>\n",
       "      <td>{'alpha': 500}</td>\n",
       "      <td>0.551491</td>\n",
       "      <td>0.531515</td>\n",
       "      <td>0.538089</td>\n",
       "      <td>0.540365</td>\n",
       "      <td>0.008312</td>\n",
       "      <td>12</td>\n",
       "      <td>0.537216</td>\n",
       "      <td>0.546986</td>\n",
       "      <td>0.544241</td>\n",
       "      <td>0.542814</td>\n",
       "      <td>0.004114</td>\n",
       "    </tr>\n",
       "  </tbody>\n",
       "</table>\n",
       "</div>"
      ],
      "text/plain": [
       "    mean_fit_time  std_fit_time  mean_score_time  std_score_time param_alpha  \\\n",
       "0        0.158588      0.007951         0.051397        0.007983        0.01   \n",
       "1        0.162168      0.015055         0.048006        0.003824         0.1   \n",
       "2        0.154782      0.014851         0.051794        0.004119         0.5   \n",
       "3        0.148756      0.021102         0.069198        0.016256           1   \n",
       "4        0.149432      0.032227         0.049395        0.005290           5   \n",
       "5        0.160264      0.011824         0.057491        0.015851          10   \n",
       "6        0.154031      0.014000         0.046392        0.002579          20   \n",
       "7        0.155952      0.005522         0.052869        0.004945          30   \n",
       "8        0.151066      0.026223         0.044944        0.002907          40   \n",
       "9        0.149998      0.021107         0.047669        0.003008          50   \n",
       "10       0.146191      0.005383         0.049990        0.005293         100   \n",
       "11       0.134605      0.006513         0.055196        0.011667         500   \n",
       "\n",
       "             params  split0_test_score  split1_test_score  split2_test_score  \\\n",
       "0   {'alpha': 0.01}           0.677461           0.674121           0.660882   \n",
       "1    {'alpha': 0.1}           0.676926           0.674493           0.660237   \n",
       "2    {'alpha': 0.5}           0.666970           0.665985           0.650454   \n",
       "3      {'alpha': 1}           0.655921           0.654768           0.640209   \n",
       "4      {'alpha': 5}           0.624556           0.617222           0.609624   \n",
       "5     {'alpha': 10}           0.612433           0.600712           0.597089   \n",
       "6     {'alpha': 20}           0.599930           0.584874           0.584854   \n",
       "7     {'alpha': 30}           0.592656           0.576042           0.577843   \n",
       "8     {'alpha': 40}           0.587527           0.569982           0.572851   \n",
       "9     {'alpha': 50}           0.583562           0.565392           0.568952   \n",
       "10   {'alpha': 100}           0.571408           0.552066           0.557299   \n",
       "11   {'alpha': 500}           0.551491           0.531515           0.538089   \n",
       "\n",
       "    mean_test_score  std_test_score  rank_test_score  split0_train_score  \\\n",
       "0          0.670821        0.007159                1            0.854345   \n",
       "1          0.670552        0.007361                2            0.840791   \n",
       "2          0.661136        0.007564                3            0.805078   \n",
       "3          0.650299        0.007151                4            0.774398   \n",
       "4          0.617134        0.006096                5            0.680422   \n",
       "5          0.603411        0.006548                6            0.643186   \n",
       "6          0.589886        0.007102                7            0.612514   \n",
       "7          0.582180        0.007444                8            0.597708   \n",
       "8          0.576787        0.007685                9            0.588306   \n",
       "9          0.572635        0.007862               10            0.581540   \n",
       "10         0.560258        0.008169               11            0.563178   \n",
       "11         0.540365        0.008312               12            0.537216   \n",
       "\n",
       "    split1_train_score  split2_train_score  mean_train_score  std_train_score  \n",
       "0             0.847309            0.841063          0.847572         0.005425  \n",
       "1             0.832702            0.826503          0.833332         0.005850  \n",
       "2             0.796153            0.790908          0.797380         0.005850  \n",
       "3             0.766050            0.762170          0.767539         0.005102  \n",
       "4             0.677906            0.677652          0.678660         0.001250  \n",
       "5             0.644031            0.644358          0.643858         0.000494  \n",
       "6             0.616277            0.616445          0.615079         0.001815  \n",
       "7             0.602847            0.602678          0.601078         0.002384  \n",
       "8             0.594307            0.593843          0.592152         0.002726  \n",
       "9             0.588139            0.587425          0.585701         0.002957  \n",
       "10            0.571301            0.569802          0.568093         0.003529  \n",
       "11            0.546986            0.544241          0.542814         0.004114  "
      ]
     },
     "execution_count": 40,
     "metadata": {},
     "output_type": "execute_result"
    }
   ],
   "source": [
    "results = pd.DataFrame.from_dict(clf.cv_results_)\n",
    "results = results.sort_values(['param_alpha'])\n",
    "results"
   ]
  },
  {
   "cell_type": "markdown",
   "id": "87fb77e7",
   "metadata": {
    "id": "87fb77e7"
   },
   "source": [
    "#### Class_prior=None"
   ]
  },
  {
   "cell_type": "code",
   "execution_count": null,
   "id": "73b7b540",
   "metadata": {
    "id": "73b7b540",
    "outputId": "b344e783-f227-45f3-9762-c52b943448db"
   },
   "outputs": [
    {
     "data": {
      "image/png": "[encoded data removed]",
      "text/plain": [
       "<Figure size 432x288 with 1 Axes>"
      ]
     },
     "metadata": {
      "needs_background": "light"
     },
     "output_type": "display_data"
    }
   ],
   "source": [
    "best_naive = MultinomialNB(alpha=10)\n",
    "best_naive.fit(X_train_tfidf,y_train)\n",
    "    \n",
    "# probability score of training and test data\n",
    "y_train_prob_pred = best_naive.predict_proba(X_train_tfidf)[:,1]\n",
    "y_test_prob_pred = best_naive.predict_proba(X_test_tfidf)[:,1]\n",
    "    \n",
    "# finding fpr, tpr, thresholds of training and test data\n",
    "tr_fpr, tr_tpr, tr_theshold = roc_curve(y_train, y_train_prob_pred)\n",
    "te_fpr, te_tpr, te_theshold = roc_curve(y_test, y_test_prob_pred)\n",
    "    \n",
    "    \n",
    "# plotting fpr vs tpr curve\n",
    "plt.plot(tr_fpr, tr_tpr, label = 'Train_AUC: '+str(auc(tr_fpr,tr_tpr)))\n",
    "plt.plot(te_fpr, te_tpr, label = 'Test_AUC: '+str(auc(te_fpr,te_tpr)))\n",
    "plt.legend()\n",
    "plt.xlabel(\"FPR\")\n",
    "plt.ylabel(\"TPR\")\n",
    "plt.title(\"Roc Curve\")\n",
    "plt.grid()\n",
    "plt.show()"
   ]
  },
  {
   "cell_type": "markdown",
   "id": "67ef8ac8",
   "metadata": {
    "id": "67ef8ac8"
   },
   "source": [
    "#### Class_prior=[0.5,0.5]"
   ]
  },
  {
   "cell_type": "code",
   "execution_count": null,
   "id": "d7d2bb6c",
   "metadata": {
    "id": "d7d2bb6c",
    "outputId": "67d281f8-4b46-4f91-92ea-95f4a17beef9"
   },
   "outputs": [
    {
     "data": {
      "image/png": "[encoded data removed]",
      "text/plain": [
       "<Figure size 432x288 with 1 Axes>"
      ]
     },
     "metadata": {
      "needs_background": "light"
     },
     "output_type": "display_data"
    }
   ],
   "source": [
    "best_naive = MultinomialNB(alpha=10, class_prior=[0.5,0.5])\n",
    "best_naive.fit(X_train_tfidf,y_train)\n",
    "    \n",
    "# probability score of training and test data\n",
    "y_train_prob_pred = best_naive.predict_proba(X_train_tfidf)[:,1]\n",
    "y_test_prob_pred = best_naive.predict_proba(X_test_tfidf)[:,1]\n",
    "    \n",
    "# finding fpr, tpr, thresholds of training and test data\n",
    "tr_fpr, tr_tpr, tr_theshold = roc_curve(y_train, y_train_prob_pred)\n",
    "te_fpr, te_tpr, te_theshold = roc_curve(y_test, y_test_prob_pred)\n",
    "    \n",
    "    \n",
    "# plotting fpr vs tpr curve\n",
    "plt.plot(tr_fpr, tr_tpr, label = 'Train_AUC: '+str(auc(tr_fpr,tr_tpr)))\n",
    "plt.plot(te_fpr, te_tpr, label = 'Test_AUC: '+str(auc(te_fpr,te_tpr)))\n",
    "plt.legend()\n",
    "plt.xlabel(\"FPR\")\n",
    "plt.ylabel(\"TPR\")\n",
    "plt.title(\"Roc Curve\")\n",
    "plt.grid()\n",
    "plt.show()"
   ]
  },
  {
   "cell_type": "markdown",
   "id": "35dcc776",
   "metadata": {
    "id": "35dcc776"
   },
   "source": [
    "### 3.1.2 with BOW representation"
   ]
  },
  {
   "cell_type": "code",
   "execution_count": null,
   "id": "08ad70de",
   "metadata": {
    "id": "08ad70de",
    "outputId": "68018164-6b08-4030-e21b-5180fd0f6b8d"
   },
   "outputs": [
    {
     "data": {
      "text/plain": [
       "GridSearchCV(cv=3, estimator=MultinomialNB(),\n",
       "             param_grid={'alpha': [0.01, 0.1, 0.5, 1, 5, 10, 20, 30, 40, 50,\n",
       "                                   100, 500]},\n",
       "             return_train_score=True, scoring='roc_auc')"
      ]
     },
     "execution_count": 43,
     "metadata": {},
     "output_type": "execute_result"
    }
   ],
   "source": [
    "# hyperparameter tuning\n",
    "naive = MultinomialNB()\n",
    "parameters = {'alpha':[0.01,0.1,0.5,1,5,10,20,30,40,50,100,500]}\n",
    "clf = GridSearchCV(naive, parameters, cv=3, scoring='roc_auc', return_train_score=True)\n",
    "clf.fit(X_train_bow, y_train)"
   ]
  },
  {
   "cell_type": "code",
   "execution_count": null,
   "id": "b02e9e8f",
   "metadata": {
    "id": "b02e9e8f",
    "outputId": "cc895728-a4b7-4370-ba76-cf639f61da2a"
   },
   "outputs": [
    {
     "data": {
      "text/html": [
       "<div>\n",
       "<style scoped>\n",
       "    .dataframe tbody tr th:only-of-type {\n",
       "        vertical-align: middle;\n",
       "    }\n",
       "\n",
       "    .dataframe tbody tr th {\n",
       "        vertical-align: top;\n",
       "    }\n",
       "\n",
       "    .dataframe thead th {\n",
       "        text-align: right;\n",
       "    }\n",
       "</style>\n",
       "<table border=\"1\" class=\"dataframe\">\n",
       "  <thead>\n",
       "    <tr style=\"text-align: right;\">\n",
       "      <th></th>\n",
       "      <th>mean_fit_time</th>\n",
       "      <th>std_fit_time</th>\n",
       "      <th>mean_score_time</th>\n",
       "      <th>std_score_time</th>\n",
       "      <th>param_alpha</th>\n",
       "      <th>params</th>\n",
       "      <th>split0_test_score</th>\n",
       "      <th>split1_test_score</th>\n",
       "      <th>split2_test_score</th>\n",
       "      <th>mean_test_score</th>\n",
       "      <th>std_test_score</th>\n",
       "      <th>rank_test_score</th>\n",
       "      <th>split0_train_score</th>\n",
       "      <th>split1_train_score</th>\n",
       "      <th>split2_train_score</th>\n",
       "      <th>mean_train_score</th>\n",
       "      <th>std_train_score</th>\n",
       "    </tr>\n",
       "  </thead>\n",
       "  <tbody>\n",
       "    <tr>\n",
       "      <th>0</th>\n",
       "      <td>0.186472</td>\n",
       "      <td>0.002699</td>\n",
       "      <td>0.065856</td>\n",
       "      <td>0.013985</td>\n",
       "      <td>0.01</td>\n",
       "      <td>{'alpha': 0.01}</td>\n",
       "      <td>0.691239</td>\n",
       "      <td>0.689639</td>\n",
       "      <td>0.683946</td>\n",
       "      <td>0.688275</td>\n",
       "      <td>0.003130</td>\n",
       "      <td>4</td>\n",
       "      <td>0.852289</td>\n",
       "      <td>0.848108</td>\n",
       "      <td>0.844653</td>\n",
       "      <td>0.848350</td>\n",
       "      <td>0.003122</td>\n",
       "    </tr>\n",
       "    <tr>\n",
       "      <th>1</th>\n",
       "      <td>0.144803</td>\n",
       "      <td>0.013661</td>\n",
       "      <td>0.044154</td>\n",
       "      <td>0.001336</td>\n",
       "      <td>0.1</td>\n",
       "      <td>{'alpha': 0.1}</td>\n",
       "      <td>0.692337</td>\n",
       "      <td>0.690910</td>\n",
       "      <td>0.685255</td>\n",
       "      <td>0.689501</td>\n",
       "      <td>0.003058</td>\n",
       "      <td>1</td>\n",
       "      <td>0.848277</td>\n",
       "      <td>0.843662</td>\n",
       "      <td>0.840202</td>\n",
       "      <td>0.844047</td>\n",
       "      <td>0.003308</td>\n",
       "    </tr>\n",
       "    <tr>\n",
       "      <th>2</th>\n",
       "      <td>0.143104</td>\n",
       "      <td>0.017235</td>\n",
       "      <td>0.042539</td>\n",
       "      <td>0.000491</td>\n",
       "      <td>0.5</td>\n",
       "      <td>{'alpha': 0.5}</td>\n",
       "      <td>0.692219</td>\n",
       "      <td>0.691142</td>\n",
       "      <td>0.685130</td>\n",
       "      <td>0.689497</td>\n",
       "      <td>0.003119</td>\n",
       "      <td>2</td>\n",
       "      <td>0.841901</td>\n",
       "      <td>0.836923</td>\n",
       "      <td>0.833450</td>\n",
       "      <td>0.837425</td>\n",
       "      <td>0.003468</td>\n",
       "    </tr>\n",
       "    <tr>\n",
       "      <th>3</th>\n",
       "      <td>0.229383</td>\n",
       "      <td>0.069610</td>\n",
       "      <td>0.075571</td>\n",
       "      <td>0.006979</td>\n",
       "      <td>1</td>\n",
       "      <td>{'alpha': 1}</td>\n",
       "      <td>0.691604</td>\n",
       "      <td>0.690917</td>\n",
       "      <td>0.684532</td>\n",
       "      <td>0.689018</td>\n",
       "      <td>0.003184</td>\n",
       "      <td>3</td>\n",
       "      <td>0.836513</td>\n",
       "      <td>0.831350</td>\n",
       "      <td>0.827878</td>\n",
       "      <td>0.831914</td>\n",
       "      <td>0.003548</td>\n",
       "    </tr>\n",
       "    <tr>\n",
       "      <th>4</th>\n",
       "      <td>0.193732</td>\n",
       "      <td>0.019087</td>\n",
       "      <td>0.071278</td>\n",
       "      <td>0.022421</td>\n",
       "      <td>5</td>\n",
       "      <td>{'alpha': 5}</td>\n",
       "      <td>0.686848</td>\n",
       "      <td>0.687674</td>\n",
       "      <td>0.680079</td>\n",
       "      <td>0.684867</td>\n",
       "      <td>0.003403</td>\n",
       "      <td>5</td>\n",
       "      <td>0.810187</td>\n",
       "      <td>0.804423</td>\n",
       "      <td>0.800829</td>\n",
       "      <td>0.805146</td>\n",
       "      <td>0.003855</td>\n",
       "    </tr>\n",
       "    <tr>\n",
       "      <th>5</th>\n",
       "      <td>0.148774</td>\n",
       "      <td>0.013133</td>\n",
       "      <td>0.054209</td>\n",
       "      <td>0.010612</td>\n",
       "      <td>10</td>\n",
       "      <td>{'alpha': 10}</td>\n",
       "      <td>0.680543</td>\n",
       "      <td>0.681363</td>\n",
       "      <td>0.675148</td>\n",
       "      <td>0.679018</td>\n",
       "      <td>0.002757</td>\n",
       "      <td>6</td>\n",
       "      <td>0.785677</td>\n",
       "      <td>0.780645</td>\n",
       "      <td>0.776975</td>\n",
       "      <td>0.781099</td>\n",
       "      <td>0.003567</td>\n",
       "    </tr>\n",
       "    <tr>\n",
       "      <th>6</th>\n",
       "      <td>0.139727</td>\n",
       "      <td>0.014689</td>\n",
       "      <td>0.047367</td>\n",
       "      <td>0.007600</td>\n",
       "      <td>20</td>\n",
       "      <td>{'alpha': 20}</td>\n",
       "      <td>0.638539</td>\n",
       "      <td>0.640444</td>\n",
       "      <td>0.636674</td>\n",
       "      <td>0.638553</td>\n",
       "      <td>0.001539</td>\n",
       "      <td>7</td>\n",
       "      <td>0.710177</td>\n",
       "      <td>0.712025</td>\n",
       "      <td>0.706110</td>\n",
       "      <td>0.709437</td>\n",
       "      <td>0.002471</td>\n",
       "    </tr>\n",
       "    <tr>\n",
       "      <th>7</th>\n",
       "      <td>0.148782</td>\n",
       "      <td>0.002234</td>\n",
       "      <td>0.049636</td>\n",
       "      <td>0.013798</td>\n",
       "      <td>30</td>\n",
       "      <td>{'alpha': 30}</td>\n",
       "      <td>0.542134</td>\n",
       "      <td>0.542184</td>\n",
       "      <td>0.541154</td>\n",
       "      <td>0.541824</td>\n",
       "      <td>0.000474</td>\n",
       "      <td>8</td>\n",
       "      <td>0.569091</td>\n",
       "      <td>0.568087</td>\n",
       "      <td>0.568693</td>\n",
       "      <td>0.568624</td>\n",
       "      <td>0.000413</td>\n",
       "    </tr>\n",
       "    <tr>\n",
       "      <th>8</th>\n",
       "      <td>0.153205</td>\n",
       "      <td>0.021752</td>\n",
       "      <td>0.040566</td>\n",
       "      <td>0.001273</td>\n",
       "      <td>40</td>\n",
       "      <td>{'alpha': 40}</td>\n",
       "      <td>0.507920</td>\n",
       "      <td>0.508266</td>\n",
       "      <td>0.506712</td>\n",
       "      <td>0.507632</td>\n",
       "      <td>0.000666</td>\n",
       "      <td>9</td>\n",
       "      <td>0.511886</td>\n",
       "      <td>0.510635</td>\n",
       "      <td>0.512602</td>\n",
       "      <td>0.511708</td>\n",
       "      <td>0.000813</td>\n",
       "    </tr>\n",
       "    <tr>\n",
       "      <th>9</th>\n",
       "      <td>0.138682</td>\n",
       "      <td>0.010411</td>\n",
       "      <td>0.060881</td>\n",
       "      <td>0.016659</td>\n",
       "      <td>50</td>\n",
       "      <td>{'alpha': 50}</td>\n",
       "      <td>0.502005</td>\n",
       "      <td>0.502862</td>\n",
       "      <td>0.501826</td>\n",
       "      <td>0.502231</td>\n",
       "      <td>0.000452</td>\n",
       "      <td>10</td>\n",
       "      <td>0.503107</td>\n",
       "      <td>0.502719</td>\n",
       "      <td>0.503493</td>\n",
       "      <td>0.503106</td>\n",
       "      <td>0.000316</td>\n",
       "    </tr>\n",
       "    <tr>\n",
       "      <th>10</th>\n",
       "      <td>0.133015</td>\n",
       "      <td>0.004803</td>\n",
       "      <td>0.039881</td>\n",
       "      <td>0.000797</td>\n",
       "      <td>100</td>\n",
       "      <td>{'alpha': 100}</td>\n",
       "      <td>0.499954</td>\n",
       "      <td>0.500037</td>\n",
       "      <td>0.499931</td>\n",
       "      <td>0.499974</td>\n",
       "      <td>0.000046</td>\n",
       "      <td>12</td>\n",
       "      <td>0.500113</td>\n",
       "      <td>0.500007</td>\n",
       "      <td>0.500167</td>\n",
       "      <td>0.500096</td>\n",
       "      <td>0.000066</td>\n",
       "    </tr>\n",
       "    <tr>\n",
       "      <th>11</th>\n",
       "      <td>0.146082</td>\n",
       "      <td>0.005165</td>\n",
       "      <td>0.042073</td>\n",
       "      <td>0.001832</td>\n",
       "      <td>500</td>\n",
       "      <td>{'alpha': 500}</td>\n",
       "      <td>0.500000</td>\n",
       "      <td>0.500000</td>\n",
       "      <td>0.500000</td>\n",
       "      <td>0.500000</td>\n",
       "      <td>0.000000</td>\n",
       "      <td>11</td>\n",
       "      <td>0.500000</td>\n",
       "      <td>0.500000</td>\n",
       "      <td>0.500000</td>\n",
       "      <td>0.500000</td>\n",
       "      <td>0.000000</td>\n",
       "    </tr>\n",
       "  </tbody>\n",
       "</table>\n",
       "</div>"
      ],
      "text/plain": [
       "    mean_fit_time  std_fit_time  mean_score_time  std_score_time param_alpha  \\\n",
       "0        0.186472      0.002699         0.065856        0.013985        0.01   \n",
       "1        0.144803      0.013661         0.044154        0.001336         0.1   \n",
       "2        0.143104      0.017235         0.042539        0.000491         0.5   \n",
       "3        0.229383      0.069610         0.075571        0.006979           1   \n",
       "4        0.193732      0.019087         0.071278        0.022421           5   \n",
       "5        0.148774      0.013133         0.054209        0.010612          10   \n",
       "6        0.139727      0.014689         0.047367        0.007600          20   \n",
       "7        0.148782      0.002234         0.049636        0.013798          30   \n",
       "8        0.153205      0.021752         0.040566        0.001273          40   \n",
       "9        0.138682      0.010411         0.060881        0.016659          50   \n",
       "10       0.133015      0.004803         0.039881        0.000797         100   \n",
       "11       0.146082      0.005165         0.042073        0.001832         500   \n",
       "\n",
       "             params  split0_test_score  split1_test_score  split2_test_score  \\\n",
       "0   {'alpha': 0.01}           0.691239           0.689639           0.683946   \n",
       "1    {'alpha': 0.1}           0.692337           0.690910           0.685255   \n",
       "2    {'alpha': 0.5}           0.692219           0.691142           0.685130   \n",
       "3      {'alpha': 1}           0.691604           0.690917           0.684532   \n",
       "4      {'alpha': 5}           0.686848           0.687674           0.680079   \n",
       "5     {'alpha': 10}           0.680543           0.681363           0.675148   \n",
       "6     {'alpha': 20}           0.638539           0.640444           0.636674   \n",
       "7     {'alpha': 30}           0.542134           0.542184           0.541154   \n",
       "8     {'alpha': 40}           0.507920           0.508266           0.506712   \n",
       "9     {'alpha': 50}           0.502005           0.502862           0.501826   \n",
       "10   {'alpha': 100}           0.499954           0.500037           0.499931   \n",
       "11   {'alpha': 500}           0.500000           0.500000           0.500000   \n",
       "\n",
       "    mean_test_score  std_test_score  rank_test_score  split0_train_score  \\\n",
       "0          0.688275        0.003130                4            0.852289   \n",
       "1          0.689501        0.003058                1            0.848277   \n",
       "2          0.689497        0.003119                2            0.841901   \n",
       "3          0.689018        0.003184                3            0.836513   \n",
       "4          0.684867        0.003403                5            0.810187   \n",
       "5          0.679018        0.002757                6            0.785677   \n",
       "6          0.638553        0.001539                7            0.710177   \n",
       "7          0.541824        0.000474                8            0.569091   \n",
       "8          0.507632        0.000666                9            0.511886   \n",
       "9          0.502231        0.000452               10            0.503107   \n",
       "10         0.499974        0.000046               12            0.500113   \n",
       "11         0.500000        0.000000               11            0.500000   \n",
       "\n",
       "    split1_train_score  split2_train_score  mean_train_score  std_train_score  \n",
       "0             0.848108            0.844653          0.848350         0.003122  \n",
       "1             0.843662            0.840202          0.844047         0.003308  \n",
       "2             0.836923            0.833450          0.837425         0.003468  \n",
       "3             0.831350            0.827878          0.831914         0.003548  \n",
       "4             0.804423            0.800829          0.805146         0.003855  \n",
       "5             0.780645            0.776975          0.781099         0.003567  \n",
       "6             0.712025            0.706110          0.709437         0.002471  \n",
       "7             0.568087            0.568693          0.568624         0.000413  \n",
       "8             0.510635            0.512602          0.511708         0.000813  \n",
       "9             0.502719            0.503493          0.503106         0.000316  \n",
       "10            0.500007            0.500167          0.500096         0.000066  \n",
       "11            0.500000            0.500000          0.500000         0.000000  "
      ]
     },
     "execution_count": 44,
     "metadata": {},
     "output_type": "execute_result"
    }
   ],
   "source": [
    "results = pd.DataFrame.from_dict(clf.cv_results_)\n",
    "results = results.sort_values(['param_alpha'])\n",
    "results"
   ]
  },
  {
   "cell_type": "markdown",
   "id": "de955b0c",
   "metadata": {
    "id": "de955b0c"
   },
   "source": [
    "#### Class_prior=None"
   ]
  },
  {
   "cell_type": "code",
   "execution_count": null,
   "id": "44b25062",
   "metadata": {
    "id": "44b25062",
    "outputId": "b33db914-239b-4c44-ac00-25fad1c848e7"
   },
   "outputs": [
    {
     "data": {
      "image/png": "[encoded data removed]",
      "text/plain": [
       "<Figure size 432x288 with 1 Axes>"
      ]
     },
     "metadata": {
      "needs_background": "light"
     },
     "output_type": "display_data"
    }
   ],
   "source": [
    "best_naive = MultinomialNB(alpha=30)\n",
    "best_naive.fit(X_train_bow,y_train)\n",
    "    \n",
    "# probability score of training and test data\n",
    "y_train_prob_pred = best_naive.predict_proba(X_train_bow)[:,1]\n",
    "y_test_prob_pred = best_naive.predict_proba(X_test_bow)[:,1]\n",
    "    \n",
    "# finding fpr, tpr, thresholds of training and test data\n",
    "tr_fpr, tr_tpr, tr_theshold = roc_curve(y_train, y_train_prob_pred)\n",
    "te_fpr, te_tpr, te_theshold = roc_curve(y_test, y_test_prob_pred)\n",
    "    \n",
    "    \n",
    "# plotting fpr vs tpr curve\n",
    "plt.plot(tr_fpr, tr_tpr, label = 'Train_AUC: '+str(auc(tr_fpr,tr_tpr)))\n",
    "plt.plot(te_fpr, te_tpr, label = 'Test_AUC: '+str(auc(te_fpr,te_tpr)))\n",
    "plt.legend()\n",
    "plt.xlabel(\"FPR\")\n",
    "plt.ylabel(\"TPR\")\n",
    "plt.title(\"Roc Curve\")\n",
    "plt.grid()\n",
    "plt.show()"
   ]
  },
  {
   "cell_type": "markdown",
   "id": "8d6ccd69",
   "metadata": {
    "id": "8d6ccd69"
   },
   "source": [
    "#### Class_prior=[0.5,0.5]"
   ]
  },
  {
   "cell_type": "code",
   "execution_count": null,
   "id": "0a19ab1b",
   "metadata": {
    "id": "0a19ab1b",
    "outputId": "048cfd16-6965-4f4a-9500-95cab12b1ffb"
   },
   "outputs": [
    {
     "data": {
      "image/png": "[encoded data removed]",
      "text/plain": [
       "<Figure size 432x288 with 1 Axes>"
      ]
     },
     "metadata": {
      "needs_background": "light"
     },
     "output_type": "display_data"
    }
   ],
   "source": [
    "best_naive = MultinomialNB(alpha=30, class_prior=[0.5,0.5])\n",
    "best_naive.fit(X_train_bow,y_train)\n",
    "    \n",
    "# probability score of training and test data\n",
    "y_train_prob_pred = best_naive.predict_proba(X_train_bow)[:,1]\n",
    "y_test_prob_pred = best_naive.predict_proba(X_test_bow)[:,1]\n",
    "    \n",
    "# finding fpr, tpr, thresholds of training and test data\n",
    "tr_fpr, tr_tpr, tr_theshold = roc_curve(y_train, y_train_prob_pred)\n",
    "te_fpr, te_tpr, te_theshold = roc_curve(y_test, y_test_prob_pred)\n",
    "    \n",
    "    \n",
    "# plotting fpr vs tpr curve\n",
    "plt.plot(tr_fpr, tr_tpr, label = 'Train_AUC: '+str(auc(tr_fpr,tr_tpr)))\n",
    "plt.plot(te_fpr, te_tpr, label = 'Test_AUC: '+str(auc(te_fpr,te_tpr)))\n",
    "plt.legend()\n",
    "plt.xlabel(\"FPR\")\n",
    "plt.ylabel(\"TPR\")\n",
    "plt.title(\"Roc Curve\")\n",
    "plt.grid()\n",
    "plt.show()"
   ]
  },
  {
   "cell_type": "markdown",
   "id": "df0d3a55",
   "metadata": {
    "id": "df0d3a55"
   },
   "source": [
    "## 3.2 Decision Tree"
   ]
  },
  {
   "cell_type": "markdown",
   "id": "9b65d67b",
   "metadata": {
    "id": "9b65d67b"
   },
   "source": [
    "### 3.2.1 with tfidf representation"
   ]
  },
  {
   "cell_type": "code",
   "execution_count": 36,
   "id": "130663f1",
   "metadata": {
    "colab": {
     "base_uri": "https://localhost:8080/"
    },
    "id": "130663f1",
    "outputId": "5c6fc2c8-a720-4157-8e64-b142b0ac621b"
   },
   "outputs": [
    {
     "data": {
      "text/plain": [
       "RandomizedSearchCV(cv=5, estimator=DecisionTreeClassifier(), n_jobs=-1,\n",
       "                   param_distributions={'max_depth': [1, 5, 10, 50],\n",
       "                                        'min_samples_split': [5, 10, 100, 500]},\n",
       "                   return_train_score=True, scoring='roc_auc')"
      ]
     },
     "execution_count": 36,
     "metadata": {},
     "output_type": "execute_result"
    }
   ],
   "source": [
    "max_depth = [1, 5, 10, 50]\n",
    "min_samples_split = [5, 10, 100, 500]\n",
    "dt = DecisionTreeClassifier()\n",
    "param = {'max_depth':max_depth, 'min_samples_split':min_samples_split}\n",
    "clf = RandomizedSearchCV(dt, param, scoring='roc_auc', cv=5, return_train_score=True, n_jobs=-1)\n",
    "clf.fit(X_train_tfidf, y_train)"
   ]
  },
  {
   "cell_type": "code",
   "execution_count": 37,
   "id": "dc9b185a",
   "metadata": {
    "colab": {
     "base_uri": "https://localhost:8080/",
     "height": 664
    },
    "id": "dc9b185a",
    "outputId": "8f68f736-01b8-4e47-c744-c7fe2162f5bf"
   },
   "outputs": [
    {
     "data": {
      "text/html": [
       "\n",
       "  <div id=\"df-287904bc-a396-4e7e-8be7-27b29d6cddd1\">\n",
       "    <div class=\"colab-df-container\">\n",
       "      <div>\n",
       "<style scoped>\n",
       "    .dataframe tbody tr th:only-of-type {\n",
       "        vertical-align: middle;\n",
       "    }\n",
       "\n",
       "    .dataframe tbody tr th {\n",
       "        vertical-align: top;\n",
       "    }\n",
       "\n",
       "    .dataframe thead th {\n",
       "        text-align: right;\n",
       "    }\n",
       "</style>\n",
       "<table border=\"1\" class=\"dataframe\">\n",
       "  <thead>\n",
       "    <tr style=\"text-align: right;\">\n",
       "      <th></th>\n",
       "      <th>mean_fit_time</th>\n",
       "      <th>std_fit_time</th>\n",
       "      <th>mean_score_time</th>\n",
       "      <th>std_score_time</th>\n",
       "      <th>param_min_samples_split</th>\n",
       "      <th>param_max_depth</th>\n",
       "      <th>params</th>\n",
       "      <th>split0_test_score</th>\n",
       "      <th>split1_test_score</th>\n",
       "      <th>split2_test_score</th>\n",
       "      <th>...</th>\n",
       "      <th>mean_test_score</th>\n",
       "      <th>std_test_score</th>\n",
       "      <th>rank_test_score</th>\n",
       "      <th>split0_train_score</th>\n",
       "      <th>split1_train_score</th>\n",
       "      <th>split2_train_score</th>\n",
       "      <th>split3_train_score</th>\n",
       "      <th>split4_train_score</th>\n",
       "      <th>mean_train_score</th>\n",
       "      <th>std_train_score</th>\n",
       "    </tr>\n",
       "  </thead>\n",
       "  <tbody>\n",
       "    <tr>\n",
       "      <th>0</th>\n",
       "      <td>2.636732</td>\n",
       "      <td>0.366111</td>\n",
       "      <td>0.035317</td>\n",
       "      <td>0.003423</td>\n",
       "      <td>5</td>\n",
       "      <td>1</td>\n",
       "      <td>{'min_samples_split': 5, 'max_depth': 1}</td>\n",
       "      <td>0.572064</td>\n",
       "      <td>0.562013</td>\n",
       "      <td>0.572231</td>\n",
       "      <td>...</td>\n",
       "      <td>0.570003</td>\n",
       "      <td>0.003998</td>\n",
       "      <td>8</td>\n",
       "      <td>0.572426</td>\n",
       "      <td>0.574939</td>\n",
       "      <td>0.569305</td>\n",
       "      <td>0.572458</td>\n",
       "      <td>0.569420</td>\n",
       "      <td>0.571709</td>\n",
       "      <td>0.002123</td>\n",
       "    </tr>\n",
       "    <tr>\n",
       "      <th>1</th>\n",
       "      <td>11.456459</td>\n",
       "      <td>0.223555</td>\n",
       "      <td>0.033856</td>\n",
       "      <td>0.000979</td>\n",
       "      <td>5</td>\n",
       "      <td>5</td>\n",
       "      <td>{'min_samples_split': 5, 'max_depth': 5}</td>\n",
       "      <td>0.666846</td>\n",
       "      <td>0.660508</td>\n",
       "      <td>0.663223</td>\n",
       "      <td>...</td>\n",
       "      <td>0.660675</td>\n",
       "      <td>0.005375</td>\n",
       "      <td>5</td>\n",
       "      <td>0.679927</td>\n",
       "      <td>0.678864</td>\n",
       "      <td>0.676160</td>\n",
       "      <td>0.677030</td>\n",
       "      <td>0.677946</td>\n",
       "      <td>0.677986</td>\n",
       "      <td>0.001326</td>\n",
       "    </tr>\n",
       "    <tr>\n",
       "      <th>2</th>\n",
       "      <td>11.432688</td>\n",
       "      <td>0.121947</td>\n",
       "      <td>0.034703</td>\n",
       "      <td>0.001428</td>\n",
       "      <td>10</td>\n",
       "      <td>5</td>\n",
       "      <td>{'min_samples_split': 10, 'max_depth': 5}</td>\n",
       "      <td>0.666701</td>\n",
       "      <td>0.660580</td>\n",
       "      <td>0.663223</td>\n",
       "      <td>...</td>\n",
       "      <td>0.660648</td>\n",
       "      <td>0.005429</td>\n",
       "      <td>6</td>\n",
       "      <td>0.679927</td>\n",
       "      <td>0.678806</td>\n",
       "      <td>0.676160</td>\n",
       "      <td>0.676992</td>\n",
       "      <td>0.677927</td>\n",
       "      <td>0.677963</td>\n",
       "      <td>0.001324</td>\n",
       "    </tr>\n",
       "    <tr>\n",
       "      <th>3</th>\n",
       "      <td>30.886089</td>\n",
       "      <td>1.234819</td>\n",
       "      <td>0.037569</td>\n",
       "      <td>0.001456</td>\n",
       "      <td>10</td>\n",
       "      <td>10</td>\n",
       "      <td>{'min_samples_split': 10, 'max_depth': 10}</td>\n",
       "      <td>0.674768</td>\n",
       "      <td>0.669865</td>\n",
       "      <td>0.675239</td>\n",
       "      <td>...</td>\n",
       "      <td>0.671490</td>\n",
       "      <td>0.007380</td>\n",
       "      <td>2</td>\n",
       "      <td>0.726269</td>\n",
       "      <td>0.719246</td>\n",
       "      <td>0.723950</td>\n",
       "      <td>0.718412</td>\n",
       "      <td>0.721911</td>\n",
       "      <td>0.721958</td>\n",
       "      <td>0.002915</td>\n",
       "    </tr>\n",
       "    <tr>\n",
       "      <th>4</th>\n",
       "      <td>27.995867</td>\n",
       "      <td>0.406844</td>\n",
       "      <td>0.036835</td>\n",
       "      <td>0.004091</td>\n",
       "      <td>500</td>\n",
       "      <td>10</td>\n",
       "      <td>{'min_samples_split': 500, 'max_depth': 10}</td>\n",
       "      <td>0.675685</td>\n",
       "      <td>0.673831</td>\n",
       "      <td>0.678013</td>\n",
       "      <td>...</td>\n",
       "      <td>0.674029</td>\n",
       "      <td>0.007918</td>\n",
       "      <td>1</td>\n",
       "      <td>0.721373</td>\n",
       "      <td>0.713362</td>\n",
       "      <td>0.718753</td>\n",
       "      <td>0.710970</td>\n",
       "      <td>0.715950</td>\n",
       "      <td>0.716082</td>\n",
       "      <td>0.003706</td>\n",
       "    </tr>\n",
       "    <tr>\n",
       "      <th>5</th>\n",
       "      <td>154.214020</td>\n",
       "      <td>2.760368</td>\n",
       "      <td>0.040928</td>\n",
       "      <td>0.002604</td>\n",
       "      <td>500</td>\n",
       "      <td>50</td>\n",
       "      <td>{'min_samples_split': 500, 'max_depth': 50}</td>\n",
       "      <td>0.634389</td>\n",
       "      <td>0.634575</td>\n",
       "      <td>0.624502</td>\n",
       "      <td>...</td>\n",
       "      <td>0.633577</td>\n",
       "      <td>0.005093</td>\n",
       "      <td>7</td>\n",
       "      <td>0.871901</td>\n",
       "      <td>0.853181</td>\n",
       "      <td>0.865057</td>\n",
       "      <td>0.882371</td>\n",
       "      <td>0.859090</td>\n",
       "      <td>0.866320</td>\n",
       "      <td>0.010152</td>\n",
       "    </tr>\n",
       "    <tr>\n",
       "      <th>6</th>\n",
       "      <td>2.283626</td>\n",
       "      <td>0.017240</td>\n",
       "      <td>0.035810</td>\n",
       "      <td>0.001724</td>\n",
       "      <td>100</td>\n",
       "      <td>1</td>\n",
       "      <td>{'min_samples_split': 100, 'max_depth': 1}</td>\n",
       "      <td>0.572064</td>\n",
       "      <td>0.562013</td>\n",
       "      <td>0.572231</td>\n",
       "      <td>...</td>\n",
       "      <td>0.570003</td>\n",
       "      <td>0.003998</td>\n",
       "      <td>8</td>\n",
       "      <td>0.572426</td>\n",
       "      <td>0.574939</td>\n",
       "      <td>0.569305</td>\n",
       "      <td>0.572458</td>\n",
       "      <td>0.569420</td>\n",
       "      <td>0.571709</td>\n",
       "      <td>0.002123</td>\n",
       "    </tr>\n",
       "    <tr>\n",
       "      <th>7</th>\n",
       "      <td>11.575891</td>\n",
       "      <td>0.117437</td>\n",
       "      <td>0.037486</td>\n",
       "      <td>0.001672</td>\n",
       "      <td>100</td>\n",
       "      <td>5</td>\n",
       "      <td>{'min_samples_split': 100, 'max_depth': 5}</td>\n",
       "      <td>0.666733</td>\n",
       "      <td>0.660580</td>\n",
       "      <td>0.663621</td>\n",
       "      <td>...</td>\n",
       "      <td>0.660718</td>\n",
       "      <td>0.005442</td>\n",
       "      <td>4</td>\n",
       "      <td>0.679791</td>\n",
       "      <td>0.678806</td>\n",
       "      <td>0.675903</td>\n",
       "      <td>0.676947</td>\n",
       "      <td>0.677927</td>\n",
       "      <td>0.677875</td>\n",
       "      <td>0.001363</td>\n",
       "    </tr>\n",
       "    <tr>\n",
       "      <th>8</th>\n",
       "      <td>31.304048</td>\n",
       "      <td>0.543841</td>\n",
       "      <td>0.036577</td>\n",
       "      <td>0.001666</td>\n",
       "      <td>5</td>\n",
       "      <td>10</td>\n",
       "      <td>{'min_samples_split': 5, 'max_depth': 10}</td>\n",
       "      <td>0.673909</td>\n",
       "      <td>0.670779</td>\n",
       "      <td>0.674201</td>\n",
       "      <td>...</td>\n",
       "      <td>0.671214</td>\n",
       "      <td>0.007406</td>\n",
       "      <td>3</td>\n",
       "      <td>0.726929</td>\n",
       "      <td>0.719100</td>\n",
       "      <td>0.724849</td>\n",
       "      <td>0.719616</td>\n",
       "      <td>0.722112</td>\n",
       "      <td>0.722521</td>\n",
       "      <td>0.003005</td>\n",
       "    </tr>\n",
       "    <tr>\n",
       "      <th>9</th>\n",
       "      <td>186.667309</td>\n",
       "      <td>21.206431</td>\n",
       "      <td>0.040573</td>\n",
       "      <td>0.005703</td>\n",
       "      <td>5</td>\n",
       "      <td>50</td>\n",
       "      <td>{'min_samples_split': 5, 'max_depth': 50}</td>\n",
       "      <td>0.553440</td>\n",
       "      <td>0.558263</td>\n",
       "      <td>0.537574</td>\n",
       "      <td>...</td>\n",
       "      <td>0.553851</td>\n",
       "      <td>0.008545</td>\n",
       "      <td>10</td>\n",
       "      <td>0.917328</td>\n",
       "      <td>0.905754</td>\n",
       "      <td>0.916342</td>\n",
       "      <td>0.934601</td>\n",
       "      <td>0.912696</td>\n",
       "      <td>0.917344</td>\n",
       "      <td>0.009537</td>\n",
       "    </tr>\n",
       "  </tbody>\n",
       "</table>\n",
       "<p>10 rows × 22 columns</p>\n",
       "</div>\n",
       "      <button class=\"colab-df-convert\" onclick=\"convertToInteractive('df-287904bc-a396-4e7e-8be7-27b29d6cddd1')\"\n",
       "              title=\"Convert this dataframe to an interactive table.\"\n",
       "              style=\"display:none;\">\n",
       "        \n",
       "  <svg xmlns=\"http://www.w3.org/2000/svg\" height=\"24px\"viewBox=\"0 0 24 24\"\n",
       "       width=\"24px\">\n",
       "    <path d=\"M0 0h24v24H0V0z\" fill=\"none\"/>\n",
       "    <path d=\"M18.56 5.44l.94 2.06.94-2.06 2.06-.94-2.06-.94-.94-2.06-.94 2.06-2.06.94zm-11 1L8.5 8.5l.94-2.06 2.06-.94-2.06-.94L8.5 2.5l-.94 2.06-2.06.94zm10 10l.94 2.06.94-2.06 2.06-.94-2.06-.94-.94-2.06-.94 2.06-2.06.94z\"/><path d=\"M17.41 7.96l-1.37-1.37c-.4-.4-.92-.59-1.43-.59-.52 0-1.04.2-1.43.59L10.3 9.45l-7.72 7.72c-.78.78-.78 2.05 0 2.83L4 21.41c.39.39.9.59 1.41.59.51 0 1.02-.2 1.41-.59l7.78-7.78 2.81-2.81c.8-.78.8-2.07 0-2.86zM5.41 20L4 18.59l7.72-7.72 1.47 1.35L5.41 20z\"/>\n",
       "  </svg>\n",
       "      </button>\n",
       "      \n",
       "  <style>\n",
       "    .colab-df-container {\n",
       "      display:flex;\n",
       "      flex-wrap:wrap;\n",
       "      gap: 12px;\n",
       "    }\n",
       "\n",
       "    .colab-df-convert {\n",
       "      background-color: #E8F0FE;\n",
       "      border: none;\n",
       "      border-radius: 50%;\n",
       "      cursor: pointer;\n",
       "      display: none;\n",
       "      fill: #1967D2;\n",
       "      height: 32px;\n",
       "      padding: 0 0 0 0;\n",
       "      width: 32px;\n",
       "    }\n",
       "\n",
       "    .colab-df-convert:hover {\n",
       "      background-color: #E2EBFA;\n",
       "      box-shadow: 0px 1px 2px rgba(60, 64, 67, 0.3), 0px 1px 3px 1px rgba(60, 64, 67, 0.15);\n",
       "      fill: #174EA6;\n",
       "    }\n",
       "\n",
       "    [theme=dark] .colab-df-convert {\n",
       "      background-color: #3B4455;\n",
       "      fill: #D2E3FC;\n",
       "    }\n",
       "\n",
       "    [theme=dark] .colab-df-convert:hover {\n",
       "      background-color: #434B5C;\n",
       "      box-shadow: 0px 1px 3px 1px rgba(0, 0, 0, 0.15);\n",
       "      filter: drop-shadow(0px 1px 2px rgba(0, 0, 0, 0.3));\n",
       "      fill: #FFFFFF;\n",
       "    }\n",
       "  </style>\n",
       "\n",
       "      <script>\n",
       "        const buttonEl =\n",
       "          document.querySelector('#df-287904bc-a396-4e7e-8be7-27b29d6cddd1 button.colab-df-convert');\n",
       "        buttonEl.style.display =\n",
       "          google.colab.kernel.accessAllowed ? 'block' : 'none';\n",
       "\n",
       "        async function convertToInteractive(key) {\n",
       "          const element = document.querySelector('#df-287904bc-a396-4e7e-8be7-27b29d6cddd1');\n",
       "          const dataTable =\n",
       "            await google.colab.kernel.invokeFunction('convertToInteractive',\n",
       "                                                     [key], {});\n",
       "          if (!dataTable) return;\n",
       "\n",
       "          const docLinkHtml = 'Like what you see? Visit the ' +\n",
       "            '<a target=\"_blank\" href=https://colab.research.google.com/notebooks/data_table.ipynb>data table notebook</a>'\n",
       "            + ' to learn more about interactive tables.';\n",
       "          element.innerHTML = '';\n",
       "          dataTable['output_type'] = 'display_data';\n",
       "          await google.colab.output.renderOutput(dataTable, element);\n",
       "          const docLink = document.createElement('div');\n",
       "          docLink.innerHTML = docLinkHtml;\n",
       "          element.appendChild(docLink);\n",
       "        }\n",
       "      </script>\n",
       "    </div>\n",
       "  </div>\n",
       "  "
      ],
      "text/plain": [
       "   mean_fit_time  std_fit_time  mean_score_time  std_score_time  \\\n",
       "0       2.636732      0.366111         0.035317        0.003423   \n",
       "1      11.456459      0.223555         0.033856        0.000979   \n",
       "2      11.432688      0.121947         0.034703        0.001428   \n",
       "3      30.886089      1.234819         0.037569        0.001456   \n",
       "4      27.995867      0.406844         0.036835        0.004091   \n",
       "5     154.214020      2.760368         0.040928        0.002604   \n",
       "6       2.283626      0.017240         0.035810        0.001724   \n",
       "7      11.575891      0.117437         0.037486        0.001672   \n",
       "8      31.304048      0.543841         0.036577        0.001666   \n",
       "9     186.667309     21.206431         0.040573        0.005703   \n",
       "\n",
       "  param_min_samples_split param_max_depth  \\\n",
       "0                       5               1   \n",
       "1                       5               5   \n",
       "2                      10               5   \n",
       "3                      10              10   \n",
       "4                     500              10   \n",
       "5                     500              50   \n",
       "6                     100               1   \n",
       "7                     100               5   \n",
       "8                       5              10   \n",
       "9                       5              50   \n",
       "\n",
       "                                        params  split0_test_score  \\\n",
       "0     {'min_samples_split': 5, 'max_depth': 1}           0.572064   \n",
       "1     {'min_samples_split': 5, 'max_depth': 5}           0.666846   \n",
       "2    {'min_samples_split': 10, 'max_depth': 5}           0.666701   \n",
       "3   {'min_samples_split': 10, 'max_depth': 10}           0.674768   \n",
       "4  {'min_samples_split': 500, 'max_depth': 10}           0.675685   \n",
       "5  {'min_samples_split': 500, 'max_depth': 50}           0.634389   \n",
       "6   {'min_samples_split': 100, 'max_depth': 1}           0.572064   \n",
       "7   {'min_samples_split': 100, 'max_depth': 5}           0.666733   \n",
       "8    {'min_samples_split': 5, 'max_depth': 10}           0.673909   \n",
       "9    {'min_samples_split': 5, 'max_depth': 50}           0.553440   \n",
       "\n",
       "   split1_test_score  split2_test_score  ...  mean_test_score  std_test_score  \\\n",
       "0           0.562013           0.572231  ...         0.570003        0.003998   \n",
       "1           0.660508           0.663223  ...         0.660675        0.005375   \n",
       "2           0.660580           0.663223  ...         0.660648        0.005429   \n",
       "3           0.669865           0.675239  ...         0.671490        0.007380   \n",
       "4           0.673831           0.678013  ...         0.674029        0.007918   \n",
       "5           0.634575           0.624502  ...         0.633577        0.005093   \n",
       "6           0.562013           0.572231  ...         0.570003        0.003998   \n",
       "7           0.660580           0.663621  ...         0.660718        0.005442   \n",
       "8           0.670779           0.674201  ...         0.671214        0.007406   \n",
       "9           0.558263           0.537574  ...         0.553851        0.008545   \n",
       "\n",
       "   rank_test_score  split0_train_score  split1_train_score  \\\n",
       "0                8            0.572426            0.574939   \n",
       "1                5            0.679927            0.678864   \n",
       "2                6            0.679927            0.678806   \n",
       "3                2            0.726269            0.719246   \n",
       "4                1            0.721373            0.713362   \n",
       "5                7            0.871901            0.853181   \n",
       "6                8            0.572426            0.574939   \n",
       "7                4            0.679791            0.678806   \n",
       "8                3            0.726929            0.719100   \n",
       "9               10            0.917328            0.905754   \n",
       "\n",
       "   split2_train_score  split3_train_score  split4_train_score  \\\n",
       "0            0.569305            0.572458            0.569420   \n",
       "1            0.676160            0.677030            0.677946   \n",
       "2            0.676160            0.676992            0.677927   \n",
       "3            0.723950            0.718412            0.721911   \n",
       "4            0.718753            0.710970            0.715950   \n",
       "5            0.865057            0.882371            0.859090   \n",
       "6            0.569305            0.572458            0.569420   \n",
       "7            0.675903            0.676947            0.677927   \n",
       "8            0.724849            0.719616            0.722112   \n",
       "9            0.916342            0.934601            0.912696   \n",
       "\n",
       "   mean_train_score  std_train_score  \n",
       "0          0.571709         0.002123  \n",
       "1          0.677986         0.001326  \n",
       "2          0.677963         0.001324  \n",
       "3          0.721958         0.002915  \n",
       "4          0.716082         0.003706  \n",
       "5          0.866320         0.010152  \n",
       "6          0.571709         0.002123  \n",
       "7          0.677875         0.001363  \n",
       "8          0.722521         0.003005  \n",
       "9          0.917344         0.009537  \n",
       "\n",
       "[10 rows x 22 columns]"
      ]
     },
     "execution_count": 37,
     "metadata": {},
     "output_type": "execute_result"
    }
   ],
   "source": [
    "results = pd.DataFrame.from_dict(clf.cv_results_)\n",
    "results"
   ]
  },
  {
   "cell_type": "code",
   "execution_count": 38,
   "id": "88972d48",
   "metadata": {
    "colab": {
     "base_uri": "https://localhost:8080/"
    },
    "id": "88972d48",
    "outputId": "fe004d00-4203-4218-9fa1-046a1bc5be2c"
   },
   "outputs": [
    {
     "name": "stdout",
     "output_type": "stream",
     "text": [
      "Best Parameters are:\n",
      " {'min_samples_split': 500, 'max_depth': 10}\n"
     ]
    }
   ],
   "source": [
    "print(\"Best Parameters are:\\n\",clf.best_params_)"
   ]
  },
  {
   "cell_type": "code",
   "execution_count": 39,
   "id": "bdb61173",
   "metadata": {
    "colab": {
     "base_uri": "https://localhost:8080/",
     "height": 295
    },
    "id": "bdb61173",
    "outputId": "8c30b014-9c74-41ce-a9ed-67184ff946c5"
   },
   "outputs": [
    {
     "data": {
      "image/png": "[encoded data removed]",
      "text/plain": [
       "<Figure size 432x288 with 1 Axes>"
      ]
     },
     "metadata": {
      "needs_background": "light"
     },
     "output_type": "display_data"
    }
   ],
   "source": [
    "clf = DecisionTreeClassifier(max_depth=10, min_samples_split=500)\n",
    "clf.fit(X_train_tfidf,y_train)\n",
    "\n",
    "y_train_prob_pred = clf.predict_proba(X_train_tfidf)[:,1]\n",
    "y_test_prob_pred = clf.predict_proba(X_test_tfidf)[:,1]\n",
    "\n",
    "tr_fpr, tr_tpr, tr_theshold = roc_curve(y_train, y_train_prob_pred)\n",
    "te_fpr, te_tpr, te_theshold = roc_curve(y_test, y_test_prob_pred)\n",
    "\n",
    "plt.plot(tr_fpr, tr_tpr, label = 'Train_AUC: '+str(auc(tr_fpr,tr_tpr)))\n",
    "plt.plot(te_fpr, te_tpr, label = 'Test_AUC: '+str(auc(te_fpr,te_tpr)))\n",
    "plt.legend()\n",
    "plt.xlabel(\"FPR\")\n",
    "plt.ylabel(\"TPR\")\n",
    "plt.title(\"Roc Curve\")\n",
    "plt.grid()\n",
    "plt.show()"
   ]
  },
  {
   "cell_type": "markdown",
   "id": "Xl6iMNXQIwlo",
   "metadata": {
    "id": "Xl6iMNXQIwlo"
   },
   "source": [
    "### 3.2.2 Using TFIDF W2V text representation"
   ]
  },
  {
   "cell_type": "code",
   "execution_count": 40,
   "id": "bwHF90gFHC8m",
   "metadata": {
    "colab": {
     "base_uri": "https://localhost:8080/"
    },
    "id": "bwHF90gFHC8m",
    "outputId": "11ae312d-c7ef-4f74-e9ac-1c5b9e4047e6"
   },
   "outputs": [
    {
     "data": {
      "text/plain": [
       "RandomizedSearchCV(cv=5, estimator=DecisionTreeClassifier(), n_jobs=-1,\n",
       "                   param_distributions={'max_depth': [1, 5, 10, 50],\n",
       "                                        'min_samples_split': [5, 10, 100, 500]},\n",
       "                   return_train_score=True, scoring='roc_auc')"
      ]
     },
     "execution_count": 40,
     "metadata": {},
     "output_type": "execute_result"
    }
   ],
   "source": [
    "from sklearn.model_selection import RandomizedSearchCV\n",
    "\n",
    "max_depth = [1, 5, 10, 50]\n",
    "min_samples_split = [5, 10, 100, 500]\n",
    "dt = DecisionTreeClassifier()\n",
    "param = {'max_depth':max_depth, 'min_samples_split':min_samples_split}\n",
    "clf = RandomizedSearchCV(dt, param, scoring='roc_auc', cv=5, return_train_score=True, n_jobs=-1)\n",
    "clf.fit(X_train_w2v, y_train)"
   ]
  },
  {
   "cell_type": "code",
   "execution_count": 41,
   "id": "RAoyXYL1JG2h",
   "metadata": {
    "colab": {
     "base_uri": "https://localhost:8080/",
     "height": 699
    },
    "id": "RAoyXYL1JG2h",
    "outputId": "15521840-1f2d-48e7-a5c1-e4c86de7e8d0"
   },
   "outputs": [
    {
     "data": {
      "text/html": [
       "\n",
       "  <div id=\"df-6d4f0269-1400-463d-93ff-5c2197cef0a4\">\n",
       "    <div class=\"colab-df-container\">\n",
       "      <div>\n",
       "<style scoped>\n",
       "    .dataframe tbody tr th:only-of-type {\n",
       "        vertical-align: middle;\n",
       "    }\n",
       "\n",
       "    .dataframe tbody tr th {\n",
       "        vertical-align: top;\n",
       "    }\n",
       "\n",
       "    .dataframe thead th {\n",
       "        text-align: right;\n",
       "    }\n",
       "</style>\n",
       "<table border=\"1\" class=\"dataframe\">\n",
       "  <thead>\n",
       "    <tr style=\"text-align: right;\">\n",
       "      <th></th>\n",
       "      <th>mean_fit_time</th>\n",
       "      <th>std_fit_time</th>\n",
       "      <th>mean_score_time</th>\n",
       "      <th>std_score_time</th>\n",
       "      <th>param_min_samples_split</th>\n",
       "      <th>param_max_depth</th>\n",
       "      <th>params</th>\n",
       "      <th>split0_test_score</th>\n",
       "      <th>split1_test_score</th>\n",
       "      <th>split2_test_score</th>\n",
       "      <th>...</th>\n",
       "      <th>mean_test_score</th>\n",
       "      <th>std_test_score</th>\n",
       "      <th>rank_test_score</th>\n",
       "      <th>split0_train_score</th>\n",
       "      <th>split1_train_score</th>\n",
       "      <th>split2_train_score</th>\n",
       "      <th>split3_train_score</th>\n",
       "      <th>split4_train_score</th>\n",
       "      <th>mean_train_score</th>\n",
       "      <th>std_train_score</th>\n",
       "    </tr>\n",
       "  </thead>\n",
       "  <tbody>\n",
       "    <tr>\n",
       "      <th>0</th>\n",
       "      <td>66.152531</td>\n",
       "      <td>10.042039</td>\n",
       "      <td>0.050767</td>\n",
       "      <td>0.017656</td>\n",
       "      <td>500</td>\n",
       "      <td>10</td>\n",
       "      <td>{'min_samples_split': 500, 'max_depth': 10}</td>\n",
       "      <td>0.658350</td>\n",
       "      <td>0.658368</td>\n",
       "      <td>0.658632</td>\n",
       "      <td>...</td>\n",
       "      <td>0.658002</td>\n",
       "      <td>0.001864</td>\n",
       "      <td>3</td>\n",
       "      <td>0.743447</td>\n",
       "      <td>0.743826</td>\n",
       "      <td>0.741731</td>\n",
       "      <td>0.745239</td>\n",
       "      <td>0.746658</td>\n",
       "      <td>0.744180</td>\n",
       "      <td>0.001669</td>\n",
       "    </tr>\n",
       "    <tr>\n",
       "      <th>1</th>\n",
       "      <td>21.376724</td>\n",
       "      <td>0.314905</td>\n",
       "      <td>0.036180</td>\n",
       "      <td>0.000539</td>\n",
       "      <td>10</td>\n",
       "      <td>5</td>\n",
       "      <td>{'min_samples_split': 10, 'max_depth': 5}</td>\n",
       "      <td>0.657552</td>\n",
       "      <td>0.660419</td>\n",
       "      <td>0.667779</td>\n",
       "      <td>...</td>\n",
       "      <td>0.662315</td>\n",
       "      <td>0.003666</td>\n",
       "      <td>1</td>\n",
       "      <td>0.681229</td>\n",
       "      <td>0.683691</td>\n",
       "      <td>0.680938</td>\n",
       "      <td>0.684444</td>\n",
       "      <td>0.684305</td>\n",
       "      <td>0.682921</td>\n",
       "      <td>0.001525</td>\n",
       "    </tr>\n",
       "    <tr>\n",
       "      <th>2</th>\n",
       "      <td>61.706703</td>\n",
       "      <td>1.487524</td>\n",
       "      <td>0.037751</td>\n",
       "      <td>0.001122</td>\n",
       "      <td>10</td>\n",
       "      <td>10</td>\n",
       "      <td>{'min_samples_split': 10, 'max_depth': 10}</td>\n",
       "      <td>0.646773</td>\n",
       "      <td>0.641592</td>\n",
       "      <td>0.642000</td>\n",
       "      <td>...</td>\n",
       "      <td>0.642728</td>\n",
       "      <td>0.002265</td>\n",
       "      <td>6</td>\n",
       "      <td>0.778068</td>\n",
       "      <td>0.787692</td>\n",
       "      <td>0.779247</td>\n",
       "      <td>0.783277</td>\n",
       "      <td>0.783074</td>\n",
       "      <td>0.782272</td>\n",
       "      <td>0.003402</td>\n",
       "    </tr>\n",
       "    <tr>\n",
       "      <th>3</th>\n",
       "      <td>196.639998</td>\n",
       "      <td>5.534267</td>\n",
       "      <td>0.042163</td>\n",
       "      <td>0.004825</td>\n",
       "      <td>5</td>\n",
       "      <td>50</td>\n",
       "      <td>{'min_samples_split': 5, 'max_depth': 50}</td>\n",
       "      <td>0.538129</td>\n",
       "      <td>0.545541</td>\n",
       "      <td>0.545770</td>\n",
       "      <td>...</td>\n",
       "      <td>0.542026</td>\n",
       "      <td>0.004907</td>\n",
       "      <td>10</td>\n",
       "      <td>0.999456</td>\n",
       "      <td>0.999508</td>\n",
       "      <td>0.999428</td>\n",
       "      <td>0.999497</td>\n",
       "      <td>0.999461</td>\n",
       "      <td>0.999470</td>\n",
       "      <td>0.000029</td>\n",
       "    </tr>\n",
       "    <tr>\n",
       "      <th>4</th>\n",
       "      <td>21.592026</td>\n",
       "      <td>0.696267</td>\n",
       "      <td>0.036696</td>\n",
       "      <td>0.000738</td>\n",
       "      <td>100</td>\n",
       "      <td>5</td>\n",
       "      <td>{'min_samples_split': 100, 'max_depth': 5}</td>\n",
       "      <td>0.657481</td>\n",
       "      <td>0.660419</td>\n",
       "      <td>0.667779</td>\n",
       "      <td>...</td>\n",
       "      <td>0.662310</td>\n",
       "      <td>0.003692</td>\n",
       "      <td>2</td>\n",
       "      <td>0.681174</td>\n",
       "      <td>0.683691</td>\n",
       "      <td>0.680938</td>\n",
       "      <td>0.684309</td>\n",
       "      <td>0.684305</td>\n",
       "      <td>0.682883</td>\n",
       "      <td>0.001511</td>\n",
       "    </tr>\n",
       "    <tr>\n",
       "      <th>5</th>\n",
       "      <td>60.139058</td>\n",
       "      <td>0.907877</td>\n",
       "      <td>0.037087</td>\n",
       "      <td>0.000700</td>\n",
       "      <td>5</td>\n",
       "      <td>10</td>\n",
       "      <td>{'min_samples_split': 5, 'max_depth': 10}</td>\n",
       "      <td>0.645768</td>\n",
       "      <td>0.640744</td>\n",
       "      <td>0.641231</td>\n",
       "      <td>...</td>\n",
       "      <td>0.642569</td>\n",
       "      <td>0.002171</td>\n",
       "      <td>7</td>\n",
       "      <td>0.778599</td>\n",
       "      <td>0.788779</td>\n",
       "      <td>0.780681</td>\n",
       "      <td>0.784214</td>\n",
       "      <td>0.784752</td>\n",
       "      <td>0.783405</td>\n",
       "      <td>0.003518</td>\n",
       "    </tr>\n",
       "    <tr>\n",
       "      <th>6</th>\n",
       "      <td>102.565458</td>\n",
       "      <td>7.637482</td>\n",
       "      <td>0.038840</td>\n",
       "      <td>0.002389</td>\n",
       "      <td>500</td>\n",
       "      <td>50</td>\n",
       "      <td>{'min_samples_split': 500, 'max_depth': 50}</td>\n",
       "      <td>0.641099</td>\n",
       "      <td>0.646668</td>\n",
       "      <td>0.646754</td>\n",
       "      <td>...</td>\n",
       "      <td>0.645624</td>\n",
       "      <td>0.003361</td>\n",
       "      <td>4</td>\n",
       "      <td>0.795684</td>\n",
       "      <td>0.789021</td>\n",
       "      <td>0.794795</td>\n",
       "      <td>0.787925</td>\n",
       "      <td>0.792613</td>\n",
       "      <td>0.792008</td>\n",
       "      <td>0.003074</td>\n",
       "    </tr>\n",
       "    <tr>\n",
       "      <th>7</th>\n",
       "      <td>59.995072</td>\n",
       "      <td>0.932451</td>\n",
       "      <td>0.038496</td>\n",
       "      <td>0.001755</td>\n",
       "      <td>100</td>\n",
       "      <td>10</td>\n",
       "      <td>{'min_samples_split': 100, 'max_depth': 10}</td>\n",
       "      <td>0.648377</td>\n",
       "      <td>0.642266</td>\n",
       "      <td>0.646031</td>\n",
       "      <td>...</td>\n",
       "      <td>0.644469</td>\n",
       "      <td>0.002858</td>\n",
       "      <td>5</td>\n",
       "      <td>0.766876</td>\n",
       "      <td>0.776152</td>\n",
       "      <td>0.768333</td>\n",
       "      <td>0.773560</td>\n",
       "      <td>0.772683</td>\n",
       "      <td>0.771521</td>\n",
       "      <td>0.003426</td>\n",
       "    </tr>\n",
       "    <tr>\n",
       "      <th>8</th>\n",
       "      <td>4.297003</td>\n",
       "      <td>0.056608</td>\n",
       "      <td>0.036563</td>\n",
       "      <td>0.001219</td>\n",
       "      <td>500</td>\n",
       "      <td>1</td>\n",
       "      <td>{'min_samples_split': 500, 'max_depth': 1}</td>\n",
       "      <td>0.572064</td>\n",
       "      <td>0.562013</td>\n",
       "      <td>0.572231</td>\n",
       "      <td>...</td>\n",
       "      <td>0.570003</td>\n",
       "      <td>0.003998</td>\n",
       "      <td>9</td>\n",
       "      <td>0.572426</td>\n",
       "      <td>0.574939</td>\n",
       "      <td>0.569305</td>\n",
       "      <td>0.572458</td>\n",
       "      <td>0.569420</td>\n",
       "      <td>0.571709</td>\n",
       "      <td>0.002123</td>\n",
       "    </tr>\n",
       "    <tr>\n",
       "      <th>9</th>\n",
       "      <td>168.639605</td>\n",
       "      <td>16.650640</td>\n",
       "      <td>0.037935</td>\n",
       "      <td>0.003379</td>\n",
       "      <td>100</td>\n",
       "      <td>50</td>\n",
       "      <td>{'min_samples_split': 100, 'max_depth': 50}</td>\n",
       "      <td>0.600056</td>\n",
       "      <td>0.597716</td>\n",
       "      <td>0.598164</td>\n",
       "      <td>...</td>\n",
       "      <td>0.598765</td>\n",
       "      <td>0.002602</td>\n",
       "      <td>8</td>\n",
       "      <td>0.920219</td>\n",
       "      <td>0.923681</td>\n",
       "      <td>0.922195</td>\n",
       "      <td>0.922170</td>\n",
       "      <td>0.920963</td>\n",
       "      <td>0.921846</td>\n",
       "      <td>0.001185</td>\n",
       "    </tr>\n",
       "  </tbody>\n",
       "</table>\n",
       "<p>10 rows × 22 columns</p>\n",
       "</div>\n",
       "      <button class=\"colab-df-convert\" onclick=\"convertToInteractive('df-6d4f0269-1400-463d-93ff-5c2197cef0a4')\"\n",
       "              title=\"Convert this dataframe to an interactive table.\"\n",
       "              style=\"display:none;\">\n",
       "        \n",
       "  <svg xmlns=\"http://www.w3.org/2000/svg\" height=\"24px\"viewBox=\"0 0 24 24\"\n",
       "       width=\"24px\">\n",
       "    <path d=\"M0 0h24v24H0V0z\" fill=\"none\"/>\n",
       "    <path d=\"M18.56 5.44l.94 2.06.94-2.06 2.06-.94-2.06-.94-.94-2.06-.94 2.06-2.06.94zm-11 1L8.5 8.5l.94-2.06 2.06-.94-2.06-.94L8.5 2.5l-.94 2.06-2.06.94zm10 10l.94 2.06.94-2.06 2.06-.94-2.06-.94-.94-2.06-.94 2.06-2.06.94z\"/><path d=\"M17.41 7.96l-1.37-1.37c-.4-.4-.92-.59-1.43-.59-.52 0-1.04.2-1.43.59L10.3 9.45l-7.72 7.72c-.78.78-.78 2.05 0 2.83L4 21.41c.39.39.9.59 1.41.59.51 0 1.02-.2 1.41-.59l7.78-7.78 2.81-2.81c.8-.78.8-2.07 0-2.86zM5.41 20L4 18.59l7.72-7.72 1.47 1.35L5.41 20z\"/>\n",
       "  </svg>\n",
       "      </button>\n",
       "      \n",
       "  <style>\n",
       "    .colab-df-container {\n",
       "      display:flex;\n",
       "      flex-wrap:wrap;\n",
       "      gap: 12px;\n",
       "    }\n",
       "\n",
       "    .colab-df-convert {\n",
       "      background-color: #E8F0FE;\n",
       "      border: none;\n",
       "      border-radius: 50%;\n",
       "      cursor: pointer;\n",
       "      display: none;\n",
       "      fill: #1967D2;\n",
       "      height: 32px;\n",
       "      padding: 0 0 0 0;\n",
       "      width: 32px;\n",
       "    }\n",
       "\n",
       "    .colab-df-convert:hover {\n",
       "      background-color: #E2EBFA;\n",
       "      box-shadow: 0px 1px 2px rgba(60, 64, 67, 0.3), 0px 1px 3px 1px rgba(60, 64, 67, 0.15);\n",
       "      fill: #174EA6;\n",
       "    }\n",
       "\n",
       "    [theme=dark] .colab-df-convert {\n",
       "      background-color: #3B4455;\n",
       "      fill: #D2E3FC;\n",
       "    }\n",
       "\n",
       "    [theme=dark] .colab-df-convert:hover {\n",
       "      background-color: #434B5C;\n",
       "      box-shadow: 0px 1px 3px 1px rgba(0, 0, 0, 0.15);\n",
       "      filter: drop-shadow(0px 1px 2px rgba(0, 0, 0, 0.3));\n",
       "      fill: #FFFFFF;\n",
       "    }\n",
       "  </style>\n",
       "\n",
       "      <script>\n",
       "        const buttonEl =\n",
       "          document.querySelector('#df-6d4f0269-1400-463d-93ff-5c2197cef0a4 button.colab-df-convert');\n",
       "        buttonEl.style.display =\n",
       "          google.colab.kernel.accessAllowed ? 'block' : 'none';\n",
       "\n",
       "        async function convertToInteractive(key) {\n",
       "          const element = document.querySelector('#df-6d4f0269-1400-463d-93ff-5c2197cef0a4');\n",
       "          const dataTable =\n",
       "            await google.colab.kernel.invokeFunction('convertToInteractive',\n",
       "                                                     [key], {});\n",
       "          if (!dataTable) return;\n",
       "\n",
       "          const docLinkHtml = 'Like what you see? Visit the ' +\n",
       "            '<a target=\"_blank\" href=https://colab.research.google.com/notebooks/data_table.ipynb>data table notebook</a>'\n",
       "            + ' to learn more about interactive tables.';\n",
       "          element.innerHTML = '';\n",
       "          dataTable['output_type'] = 'display_data';\n",
       "          await google.colab.output.renderOutput(dataTable, element);\n",
       "          const docLink = document.createElement('div');\n",
       "          docLink.innerHTML = docLinkHtml;\n",
       "          element.appendChild(docLink);\n",
       "        }\n",
       "      </script>\n",
       "    </div>\n",
       "  </div>\n",
       "  "
      ],
      "text/plain": [
       "   mean_fit_time  std_fit_time  mean_score_time  std_score_time  \\\n",
       "0      66.152531     10.042039         0.050767        0.017656   \n",
       "1      21.376724      0.314905         0.036180        0.000539   \n",
       "2      61.706703      1.487524         0.037751        0.001122   \n",
       "3     196.639998      5.534267         0.042163        0.004825   \n",
       "4      21.592026      0.696267         0.036696        0.000738   \n",
       "5      60.139058      0.907877         0.037087        0.000700   \n",
       "6     102.565458      7.637482         0.038840        0.002389   \n",
       "7      59.995072      0.932451         0.038496        0.001755   \n",
       "8       4.297003      0.056608         0.036563        0.001219   \n",
       "9     168.639605     16.650640         0.037935        0.003379   \n",
       "\n",
       "  param_min_samples_split param_max_depth  \\\n",
       "0                     500              10   \n",
       "1                      10               5   \n",
       "2                      10              10   \n",
       "3                       5              50   \n",
       "4                     100               5   \n",
       "5                       5              10   \n",
       "6                     500              50   \n",
       "7                     100              10   \n",
       "8                     500               1   \n",
       "9                     100              50   \n",
       "\n",
       "                                        params  split0_test_score  \\\n",
       "0  {'min_samples_split': 500, 'max_depth': 10}           0.658350   \n",
       "1    {'min_samples_split': 10, 'max_depth': 5}           0.657552   \n",
       "2   {'min_samples_split': 10, 'max_depth': 10}           0.646773   \n",
       "3    {'min_samples_split': 5, 'max_depth': 50}           0.538129   \n",
       "4   {'min_samples_split': 100, 'max_depth': 5}           0.657481   \n",
       "5    {'min_samples_split': 5, 'max_depth': 10}           0.645768   \n",
       "6  {'min_samples_split': 500, 'max_depth': 50}           0.641099   \n",
       "7  {'min_samples_split': 100, 'max_depth': 10}           0.648377   \n",
       "8   {'min_samples_split': 500, 'max_depth': 1}           0.572064   \n",
       "9  {'min_samples_split': 100, 'max_depth': 50}           0.600056   \n",
       "\n",
       "   split1_test_score  split2_test_score  ...  mean_test_score  std_test_score  \\\n",
       "0           0.658368           0.658632  ...         0.658002        0.001864   \n",
       "1           0.660419           0.667779  ...         0.662315        0.003666   \n",
       "2           0.641592           0.642000  ...         0.642728        0.002265   \n",
       "3           0.545541           0.545770  ...         0.542026        0.004907   \n",
       "4           0.660419           0.667779  ...         0.662310        0.003692   \n",
       "5           0.640744           0.641231  ...         0.642569        0.002171   \n",
       "6           0.646668           0.646754  ...         0.645624        0.003361   \n",
       "7           0.642266           0.646031  ...         0.644469        0.002858   \n",
       "8           0.562013           0.572231  ...         0.570003        0.003998   \n",
       "9           0.597716           0.598164  ...         0.598765        0.002602   \n",
       "\n",
       "   rank_test_score  split0_train_score  split1_train_score  \\\n",
       "0                3            0.743447            0.743826   \n",
       "1                1            0.681229            0.683691   \n",
       "2                6            0.778068            0.787692   \n",
       "3               10            0.999456            0.999508   \n",
       "4                2            0.681174            0.683691   \n",
       "5                7            0.778599            0.788779   \n",
       "6                4            0.795684            0.789021   \n",
       "7                5            0.766876            0.776152   \n",
       "8                9            0.572426            0.574939   \n",
       "9                8            0.920219            0.923681   \n",
       "\n",
       "   split2_train_score  split3_train_score  split4_train_score  \\\n",
       "0            0.741731            0.745239            0.746658   \n",
       "1            0.680938            0.684444            0.684305   \n",
       "2            0.779247            0.783277            0.783074   \n",
       "3            0.999428            0.999497            0.999461   \n",
       "4            0.680938            0.684309            0.684305   \n",
       "5            0.780681            0.784214            0.784752   \n",
       "6            0.794795            0.787925            0.792613   \n",
       "7            0.768333            0.773560            0.772683   \n",
       "8            0.569305            0.572458            0.569420   \n",
       "9            0.922195            0.922170            0.920963   \n",
       "\n",
       "   mean_train_score  std_train_score  \n",
       "0          0.744180         0.001669  \n",
       "1          0.682921         0.001525  \n",
       "2          0.782272         0.003402  \n",
       "3          0.999470         0.000029  \n",
       "4          0.682883         0.001511  \n",
       "5          0.783405         0.003518  \n",
       "6          0.792008         0.003074  \n",
       "7          0.771521         0.003426  \n",
       "8          0.571709         0.002123  \n",
       "9          0.921846         0.001185  \n",
       "\n",
       "[10 rows x 22 columns]"
      ]
     },
     "execution_count": 41,
     "metadata": {},
     "output_type": "execute_result"
    }
   ],
   "source": [
    "results = pd.DataFrame.from_dict(clf.cv_results_)\n",
    "results"
   ]
  },
  {
   "cell_type": "code",
   "execution_count": 42,
   "id": "Mx1a5rt6JL08",
   "metadata": {
    "colab": {
     "base_uri": "https://localhost:8080/"
    },
    "id": "Mx1a5rt6JL08",
    "outputId": "29ed0dfa-a230-40dd-df53-9082d7b42fdb"
   },
   "outputs": [
    {
     "name": "stdout",
     "output_type": "stream",
     "text": [
      "Best Parameters are:\n",
      " {'min_samples_split': 10, 'max_depth': 5}\n"
     ]
    }
   ],
   "source": [
    "print(\"Best Parameters are:\\n\",clf.best_params_)"
   ]
  },
  {
   "cell_type": "code",
   "execution_count": 43,
   "id": "nW62CpULJNIx",
   "metadata": {
    "id": "nW62CpULJNIx"
   },
   "outputs": [],
   "source": [
    "best_depth = clf.best_params_['max_depth']\n",
    "best_split = clf.best_params_['min_samples_split']"
   ]
  },
  {
   "cell_type": "code",
   "execution_count": 44,
   "id": "JY7HHvWoJZRE",
   "metadata": {
    "colab": {
     "base_uri": "https://localhost:8080/",
     "height": 295
    },
    "id": "JY7HHvWoJZRE",
    "outputId": "25a279c4-20a2-42b9-dc9a-d15dba0f9082"
   },
   "outputs": [
    {
     "data": {
      "image/png": "[encoded data removed]",
      "text/plain": [
       "<Figure size 432x288 with 1 Axes>"
      ]
     },
     "metadata": {
      "needs_background": "light"
     },
     "output_type": "display_data"
    }
   ],
   "source": [
    "clf = DecisionTreeClassifier(max_depth=best_depth, min_samples_split=best_split)\n",
    "clf.fit(X_train_tfidf,y_train)\n",
    "\n",
    "y_train_prob_pred = clf.predict_proba(X_train_tfidf)[:,1]\n",
    "y_test_prob_pred = clf.predict_proba(X_test_tfidf)[:,1]\n",
    "\n",
    "tr_fpr, tr_tpr, tr_theshold = roc_curve(y_train, y_train_prob_pred)\n",
    "te_fpr, te_tpr, te_theshold = roc_curve(y_test, y_test_prob_pred)\n",
    "\n",
    "plt.plot(tr_fpr, tr_tpr, label = 'Train_AUC: '+str(auc(tr_fpr,tr_tpr)))\n",
    "plt.plot(te_fpr, te_tpr, label = 'Test_AUC: '+str(auc(te_fpr,te_tpr)))\n",
    "plt.legend()\n",
    "plt.xlabel(\"FPR\")\n",
    "plt.ylabel(\"TPR\")\n",
    "plt.title(\"Roc Curve\")\n",
    "plt.grid()\n",
    "plt.show()"
   ]
  },
  {
   "cell_type": "code",
   "execution_count": 45,
   "id": "ByhYzn_GJmiO",
   "metadata": {
    "colab": {
     "base_uri": "https://localhost:8080/"
    },
    "id": "ByhYzn_GJmiO",
    "outputId": "e7573e09-6a6b-4ca6-c89c-928ae8bb4981"
   },
   "outputs": [
    {
     "name": "stdout",
     "output_type": "stream",
     "text": [
      "+-----------------------------------+------------+-----------+----------+\n",
      "|               Model               | Vectorizor | Train AUC | Test AUC |\n",
      "+-----------------------------------+------------+-----------+----------+\n",
      "|    Naive Bayes class_prior=None   |   TFIDF    |   0.6481  |  0.6191  |\n",
      "| Naive Bayes class_prior=[0.5,0.5] |   TFIDF    |   0.6478  |  0.6191  |\n",
      "|    Naive Bayes class_prior=None   |    BOW     |   0.6877  |  0.6431  |\n",
      "| Naive Bayes class_prior=[0.5,0.5] |    BOW     |   0.6951  |  0.6499  |\n",
      "|           Decision Tree           |   TFIDF    |   0.7173  |  0.6823  |\n",
      "|           Decision Tree           | TFIDF_w2v  |   0.6795  |  0.6712  |\n",
      "+-----------------------------------+------------+-----------+----------+\n"
     ]
    }
   ],
   "source": [
    "from prettytable import PrettyTable\n",
    "# column names\n",
    "table = PrettyTable(['Model','Vectorizor','Train AUC','Test AUC'])\n",
    "# rows of the table\n",
    "table.add_row(['Naive Bayes class_prior=None','TFIDF','0.6481','0.6191'])\n",
    "table.add_row(['Naive Bayes class_prior=[0.5,0.5]','TFIDF','0.6478','0.6191'])\n",
    "table.add_row(['Naive Bayes class_prior=None','BOW','0.6877', '0.6431'])\n",
    "table.add_row(['Naive Bayes class_prior=[0.5,0.5]','BOW','0.6951','0.6499'])\n",
    "table.add_row(['Decision Tree','TFIDF','0.7173','0.6823'])\n",
    "table.add_row(['Decision Tree','TFIDF_w2v','0.6795', '0.6712'])\n",
    "\n",
    "print(table)"
   ]
  },
  {
   "cell_type": "code",
   "execution_count": null,
   "id": "JBQY6oJ6pWaa",
   "metadata": {
    "id": "JBQY6oJ6pWaa"
   },
   "outputs": [],
   "source": []
  }
 ],
 "metadata": {
  "accelerator": "GPU",
  "colab": {
   "collapsed_sections": [
    "f43c5077"
   ],
   "name": "Machine Learning Models.ipynb",
   "provenance": []
  },
  "gpuClass": "standard",
  "kernelspec": {
   "display_name": "Python 3 (ipykernel)",
   "language": "python",
   "name": "python3"
  },
  "language_info": {
   "codemirror_mode": {
    "name": "ipython",
    "version": 3
   },
   "file_extension": ".py",
   "mimetype": "text/x-python",
   "name": "python",
   "nbconvert_exporter": "python",
   "pygments_lexer": "ipython3",
   "version": "3.9.12"
  }
 },
 "nbformat": 4,
 "nbformat_minor": 5
}
